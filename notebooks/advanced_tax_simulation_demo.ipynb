{
 "cells": [
  {
   "cell_type": "markdown",
   "metadata": {},
   "source": [
    "# Advanced Tax Policy Simulation with DSGE Model\n",
    "\n",
    "このノートブックでは、改良版の線形化手法（Klein法）を使用して、より高度な税制シミュレーションを実行します。\n",
    "\n",
    "## 主な機能:\n",
    "- 移行動態の詳細な分析\n",
    "- 厚生分析（消費等価変分）\n",
    "- 複数の税制改革シナリオの比較\n",
    "- 最適税制の探索"
   ]
  },
  {
   "cell_type": "code",
   "execution_count": null,
   "metadata": {},
   "outputs": [],
   "source": [
    "# 必要なライブラリのインポート\n",
    "import sys\n",
    "import os\n",
    "import numpy as np\n",
    "import pandas as pd\n",
    "import matplotlib.pyplot as plt\n",
    "import seaborn as sns\n",
    "from IPython.display import display, HTML\n",
    "\n",
    "# プロジェクトのルートディレクトリをPythonパスに追加\n",
    "sys.path.append(os.path.dirname(os.getcwd()))\n",
    "\n",
    "# 改良版モジュールのインポート\n",
    "from src.dsge_model import DSGEModel, ModelParameters, load_model\n",
    "from src.linearization_improved import ImprovedLinearizedDSGE\n",
    "from src.tax_simulator import EnhancedTaxSimulator, TaxReform\n",
    "\n",
    "# プロット設定\n",
    "plt.style.use('seaborn-v0_8-whitegrid')\n",
    "plt.rcParams['figure.figsize'] = (12, 8)\n",
    "plt.rcParams['font.size'] = 11\n",
    "plt.rcParams['axes.labelsize'] = 12\n",
    "plt.rcParams['axes.titlesize'] = 14\n",
    "plt.rcParams['legend.fontsize'] = 10\n",
    "\n",
    "# 日本語フォントの設定\n",
    "# plt.rcParams['font.sans-serif'] = ['Hiragino Sans', 'Yu Gothic', 'Meiryo', 'DejaVu Sans']\n",
    "\n",
    "print(\"ライブラリのインポートが完了しました。\")"
   ]
  },
  {
   "cell_type": "markdown",
   "metadata": {},
   "source": [
    "## 1. モデルの初期化と改良版線形化"
   ]
  },
  {
   "cell_type": "code",
   "execution_count": null,
   "metadata": {},
   "outputs": [],
   "source": [
    "# モデルの読み込みと初期化\n",
    "config_path = '../config/parameters.json'\n",
    "baseline_model = load_model(config_path)\n",
    "\n",
    "# 定常状態の計算\n",
    "print(\"定常状態を計算中...\")\n",
    "baseline_ss = baseline_model.compute_steady_state()\n",
    "print(\"定常状態の計算が完了しました。\")\n",
    "\n",
    "# 改良版線形化モデルの作成\n",
    "linear_model = ImprovedLinearizedDSGE(baseline_model, baseline_ss)\n",
    "linear_model.build_system_matrices()\n",
    "P, Q = linear_model.solve_klein()\n",
    "\n",
    "print(\"\\nKlein法による線形化が完了しました。\")\n",
    "print(f\"政策関数行列 P の次元: {P.shape}\")\n",
    "print(f\"遷移行列 Q の次元: {Q.shape}\")"
   ]
  },
  {
   "cell_type": "markdown",
   "metadata": {},
   "source": [
    "## 2. 各種ショックに対するインパルス応答関数"
   ]
  },
  {
   "cell_type": "code",
   "execution_count": null,
   "metadata": {},
   "outputs": [],
   "source": [
    "# インパルス応答関数の計算と可視化\n",
    "shock_types = ['tfp', 'gov_spending', 'monetary', 'consumption_tax']\n",
    "key_variables = ['Y', 'C', 'I', 'L', 'pi', 'T']\n",
    "\n",
    "fig, axes = plt.subplots(2, 2, figsize=(14, 10))\n",
    "axes = axes.ravel()\n",
    "\n",
    "for i, shock in enumerate(shock_types):\n",
    "    # インパルス応答の計算\n",
    "    if 'tax' in shock:\n",
    "        irf = linear_model.compute_impulse_response(shock, shock_size=1.0, periods=40)\n",
    "    else:\n",
    "        irf = linear_model.compute_impulse_response(shock, shock_size=1.0, periods=40)\n",
    "    \n",
    "    # GDPの応答をプロット\n",
    "    ax = axes[i]\n",
    "    ax.plot(irf.index, irf['Y'], linewidth=2, label='GDP')\n",
    "    ax.plot(irf.index, irf['C'], linewidth=2, label='Consumption')\n",
    "    ax.plot(irf.index, irf['I'], linewidth=2, label='Investment')\n",
    "    \n",
    "    ax.axhline(y=0, color='k', linestyle='--', alpha=0.5)\n",
    "    ax.set_title(f'Response to {shock.replace(\"_\", \" \").title()} Shock')\n",
    "    ax.set_xlabel('Quarters')\n",
    "    ax.set_ylabel('% Deviation from SS')\n",
    "    ax.legend()\n",
    "    ax.grid(True, alpha=0.3)\n",
    "\n",
    "plt.tight_layout()\n",
    "plt.show()"
   ]
  },
  {
   "cell_type": "markdown",
   "metadata": {},
   "source": [
    "## 3. 税制改革シミュレーション with 移行動態"
   ]
  },
  {
   "cell_type": "code",
   "execution_count": null,
   "metadata": {},
   "outputs": [],
   "source": [
    "# Enhanced Tax Simulatorの初期化\n",
    "tax_simulator = EnhancedTaxSimulator(baseline_model)\n",
    "\n",
    "# 複数の税制改革シナリオを定義\n",
    "reforms = [\n",
    "    TaxReform(\n",
    "        name=\"消費税5%引き上げ（恒久的）\",\n",
    "        tau_c=0.15,  # 10% → 15%\n",
    "        implementation='permanent'\n",
    "    ),\n",
    "    TaxReform(\n",
    "        name=\"消費税5%引き上げ（段階的）\",\n",
    "        tau_c=0.15,\n",
    "        implementation='phased',\n",
    "        phase_in_periods=8  # 2年かけて段階的に実施\n",
    "    ),\n",
    "    TaxReform(\n",
    "        name=\"所得税5%引き下げ\",\n",
    "        tau_l=0.15,  # 20% → 15%\n",
    "        implementation='permanent'\n",
    "    ),\n",
    "    TaxReform(\n",
    "        name=\"税制中立改革（消費税↑所得税↓）\",\n",
    "        tau_c=0.15,\n",
    "        tau_l=0.15,\n",
    "        implementation='permanent'\n",
    "    )\n",
    "]"
   ]
  },
  {
   "cell_type": "code",
   "execution_count": null,
   "metadata": {},
   "outputs": [],
   "source": [
    "# 各改革のシミュレーション実行\n",
    "simulation_results = {}\n",
    "\n",
    "for reform in reforms:\n",
    "    print(f\"\\nシミュレーション実行中: {reform.name}\")\n",
    "    results = tax_simulator.simulate_reform(reform, periods=100, compute_welfare=True)\n",
    "    simulation_results[reform.name] = results\n",
    "    \n",
    "    # 結果サマリーの表示\n",
    "    print(f\"  厚生変化: {results.welfare_change:+.3f}%\")\n",
    "    print(f\"  移行期間: {results.transition_periods} 四半期\")\n",
    "    print(f\"  長期GDP効果: {(results.steady_state_reform.Y - results.steady_state_baseline.Y) / results.steady_state_baseline.Y * 100:+.3f}%\")"
   ]
  },
  {
   "cell_type": "markdown",
   "metadata": {},
   "source": [
    "## 4. 移行動態の可視化"
   ]
  },
  {
   "cell_type": "code",
   "execution_count": null,
   "metadata": {},
   "outputs": [],
   "source": [
    "# 消費税改革の移行動態を詳細に分析\n",
    "reform_name = \"消費税5%引き上げ（恒久的）\"\n",
    "results = simulation_results[reform_name]\n",
    "\n",
    "variables_to_plot = ['Y', 'C', 'I', 'L', 'T', 'B']\n",
    "fig = tax_simulator.plot_transition_dynamics(\n",
    "    results,\n",
    "    variables=variables_to_plot,\n",
    "    figsize=(14, 10)\n",
    ")\n",
    "plt.show()"
   ]
  },
  {
   "cell_type": "code",
   "execution_count": null,
   "metadata": {},
   "outputs": [],
   "source": [
    "# 段階的実施vs即時実施の比較\n",
    "fig, axes = plt.subplots(2, 2, figsize=(12, 8))\n",
    "axes = axes.ravel()\n",
    "\n",
    "permanent_results = simulation_results[\"消費税5%引き上げ（恒久的）\"]\n",
    "phased_results = simulation_results[\"消費税5%引き上げ（段階的）\"]\n",
    "\n",
    "variables = ['Y', 'C', 'T', 'B']\n",
    "titles = ['GDP', 'Consumption', 'Tax Revenue', 'Government Debt']\n",
    "\n",
    "for i, (var, title) in enumerate(zip(variables, titles)):\n",
    "    ax = axes[i]\n",
    "    \n",
    "    # 最初の40期間のみプロット\n",
    "    periods = 40\n",
    "    ax.plot(permanent_results.reform_path[var].iloc[:periods], \n",
    "            label='Immediate', linewidth=2, color='red')\n",
    "    ax.plot(phased_results.reform_path[var].iloc[:periods], \n",
    "            label='Phased (8 quarters)', linewidth=2, color='blue', linestyle='--')\n",
    "    ax.plot(permanent_results.baseline_path[var].iloc[:periods], \n",
    "            label='Baseline', linewidth=1, color='gray', alpha=0.7)\n",
    "    \n",
    "    ax.set_title(title)\n",
    "    ax.set_xlabel('Quarters')\n",
    "    ax.legend()\n",
    "    ax.grid(True, alpha=0.3)\n",
    "\n",
    "plt.suptitle('Immediate vs Phased Implementation of 5pp Consumption Tax Increase', fontsize=14)\n",
    "plt.tight_layout()\n",
    "plt.show()"
   ]
  },
  {
   "cell_type": "markdown",
   "metadata": {},
   "source": [
    "## 5. 税制改革の比較分析"
   ]
  },
  {
   "cell_type": "code",
   "execution_count": null,
   "metadata": {},
   "outputs": [],
   "source": [
    "# 改革シナリオの比較表\n",
    "comparison_df = tax_simulator.compare_reforms(\n",
    "    reform_list=reforms,\n",
    "    periods=100,\n",
    "    variables=['Y', 'C', 'I', 'L', 'T', 'T/Y', 'Welfare']\n",
    ")\n",
    "\n",
    "# 結果をフォーマットして表示\n",
    "styled_df = comparison_df.style.format({\n",
    "    'Y': '{:+.2f}%',\n",
    "    'C': '{:+.2f}%',\n",
    "    'I': '{:+.2f}%',\n",
    "    'L': '{:+.2f}%',\n",
    "    'T': '{:+.2f}%',\n",
    "    'T/Y': '{:+.2f}%',\n",
    "    'Welfare': '{:+.3f}%',\n",
    "    'Transition (quarters)': '{:.0f}'\n",
    "})\n",
    "\n",
    "# カラーマップの適用\n",
    "styled_df = styled_df.background_gradient(cmap='RdYlGn', center=0, \n",
    "                                         subset=['Y', 'C', 'I', 'Welfare'])\n",
    "\n",
    "display(HTML(\"<h3>税制改革の比較分析（定常状態での変化）</h3>\"))\n",
    "display(styled_df)"
   ]
  },
  {
   "cell_type": "markdown",
   "metadata": {},
   "source": [
    "## 6. 財政への影響の詳細分析"
   ]
  },
  {
   "cell_type": "code",
   "execution_count": null,
   "metadata": {},
   "outputs": [],
   "source": [
    "# 税制中立改革の財政影響を詳細分析\n",
    "neutral_reform_results = simulation_results[\"税制中立改革（消費税↑所得税↓）\"]\n",
    "\n",
    "# 財政影響の表示\n",
    "fiscal_impact = neutral_reform_results.fiscal_impact\n",
    "print(\"税制中立改革の財政への影響\")\n",
    "print(\"=\" * 60)\n",
    "\n",
    "for horizon in fiscal_impact.index.get_level_values(0).unique():\n",
    "    print(f\"\\n{horizon}:\")\n",
    "    horizon_data = fiscal_impact.loc[horizon]\n",
    "    \n",
    "    # 主要指標のみ表示\n",
    "    key_vars = ['Y', 'T', 'T/Y ratio']\n",
    "    for var in key_vars:\n",
    "        if var in horizon_data.index:\n",
    "            data = horizon_data.loc[var]\n",
    "            print(f\"  {var:12s}: Baseline={data['Baseline']:8.3f}, \"\n",
    "                  f\"Reform={data['Reform']:8.3f}, \"\n",
    "                  f\"Change={data['% Change']:+6.2f}%\")"
   ]
  },
  {
   "cell_type": "code",
   "execution_count": null,
   "metadata": {},
   "outputs": [],
   "source": [
    "# 各税収源の推移\n",
    "fig, axes = plt.subplots(2, 2, figsize=(12, 8))\n",
    "axes = axes.ravel()\n",
    "\n",
    "tax_vars = ['Tc', 'Tl', 'Tk', 'Tf']\n",
    "tax_names = ['Consumption Tax', 'Labor Income Tax', 'Capital Income Tax', 'Corporate Tax']\n",
    "\n",
    "for i, (var, name) in enumerate(zip(tax_vars, tax_names)):\n",
    "    ax = axes[i]\n",
    "    \n",
    "    # ベースラインと改革後の比較\n",
    "    baseline = neutral_reform_results.baseline_path[var].iloc[:40]\n",
    "    reform = neutral_reform_results.reform_path[var].iloc[:40]\n",
    "    \n",
    "    ax.plot(baseline.index, baseline, label='Baseline', linewidth=2)\n",
    "    ax.plot(reform.index, reform, label='After Reform', linewidth=2, linestyle='--')\n",
    "    \n",
    "    # 変化率を右軸に表示\n",
    "    ax2 = ax.twinx()\n",
    "    change_pct = (reform - baseline) / baseline * 100\n",
    "    ax2.plot(change_pct.index, change_pct, color='red', alpha=0.5, linewidth=1)\n",
    "    ax2.set_ylabel('% Change', color='red')\n",
    "    ax2.tick_params(axis='y', labelcolor='red')\n",
    "    \n",
    "    ax.set_title(name)\n",
    "    ax.set_xlabel('Quarters')\n",
    "    ax.set_ylabel('Revenue')\n",
    "    ax.legend()\n",
    "    ax.grid(True, alpha=0.3)\n",
    "\n",
    "plt.suptitle('Tax Revenue by Source: Neutral Reform Impact', fontsize=14)\n",
    "plt.tight_layout()\n",
    "plt.show()"
   ]
  },
  {
   "cell_type": "markdown",
   "metadata": {},
   "source": [
    "## 7. 分散分解分析"
   ]
  },
  {
   "cell_type": "code",
   "execution_count": null,
   "metadata": {},
   "outputs": [],
   "source": [
    "# 予測誤差分散分解\n",
    "variance_decomp = linear_model.variance_decomposition(\n",
    "    periods=40,\n",
    "    variables=['Y', 'C', 'I', 'pi', 'T']\n",
    ")\n",
    "\n",
    "# ヒートマップでの可視化\n",
    "plt.figure(figsize=(10, 6))\n",
    "sns.heatmap(variance_decomp, annot=True, fmt='.1f', cmap='YlOrRd', \n",
    "            cbar_kws={'label': 'Contribution (%)'})\n",
    "plt.title('Forecast Error Variance Decomposition (40 quarters ahead)')\n",
    "plt.xlabel('Shock Type')\n",
    "plt.ylabel('Variable')\n",
    "plt.tight_layout()\n",
    "plt.show()\n",
    "\n",
    "# 主要な発見の要約\n",
    "print(\"\\n分散分解の主要な発見:\")\n",
    "for var in variance_decomp.index:\n",
    "    main_driver = variance_decomp.loc[var].idxmax()\n",
    "    contribution = variance_decomp.loc[var, main_driver]\n",
    "    print(f\"- {var}の変動の{contribution:.1f}%は{main_driver}ショックによって説明される\")"
   ]
  },
  {
   "cell_type": "markdown",
   "metadata": {},
   "source": [
    "## 8. 最適税制の探索"
   ]
  },
  {
   "cell_type": "code",
   "execution_count": null,
   "metadata": {},
   "outputs": [],
   "source": [
    "# 税収目標を設定（GDPの20%）\n",
    "target_revenue = 0.20\n",
    "\n",
    "# 税率の制約\n",
    "tax_bounds = {\n",
    "    'tau_c': (0.05, 0.25),  # 消費税: 5%-25%\n",
    "    'tau_l': (0.10, 0.40),  # 所得税: 10%-40%\n",
    "    'tau_f': (0.20, 0.40)   # 法人税: 20%-40%\n",
    "}\n",
    "\n",
    "print(f\"目標税収: GDP比{target_revenue:.1%}\")\n",
    "print(\"\\n厚生を最大化する最適税制を探索中...\")\n",
    "\n",
    "# 最適化の実行\n",
    "optimal_welfare = tax_simulator.optimal_tax_mix(\n",
    "    target_revenue=target_revenue,\n",
    "    tax_bounds=tax_bounds,\n",
    "    objective='welfare'\n",
    ")\n",
    "\n",
    "if optimal_welfare:\n",
    "    print(\"\\n厚生最大化の最適税率:\")\n",
    "    print(f\"  消費税: {optimal_welfare['tau_c']:.1%}\")\n",
    "    print(f\"  所得税: {optimal_welfare['tau_l']:.1%}\")\n",
    "    print(f\"  法人税: {optimal_welfare['tau_f']:.1%}\")\n",
    "\n",
    "print(\"\\nGDPを最大化する最適税制を探索中...\")\n",
    "\n",
    "# GDP最大化\n",
    "optimal_output = tax_simulator.optimal_tax_mix(\n",
    "    target_revenue=target_revenue,\n",
    "    tax_bounds=tax_bounds,\n",
    "    objective='output'\n",
    ")\n",
    "\n",
    "if optimal_output:\n",
    "    print(\"\\nGDP最大化の最適税率:\")\n",
    "    print(f\"  消費税: {optimal_output['tau_c']:.1%}\")\n",
    "    print(f\"  所得税: {optimal_output['tau_l']:.1%}\")\n",
    "    print(f\"  法人税: {optimal_output['tau_f']:.1%}\")"
   ]
  },
  {
   "cell_type": "markdown",
   "metadata": {},
   "source": [
    "## 9. 結果のエクスポートとレポート作成"
   ]
  },
  {
   "cell_type": "code",
   "execution_count": null,
   "metadata": {},
   "outputs": [],
   "source": [
    "# 主要な結果をDataFrameにまとめる\n",
    "summary_results = pd.DataFrame()\n",
    "\n",
    "for reform_name, results in simulation_results.items():\n",
    "    summary = {\n",
    "        'Reform': reform_name,\n",
    "        'Welfare Change (%)': results.welfare_change,\n",
    "        'Long-run GDP (%)': (results.steady_state_reform.Y - results.steady_state_baseline.Y) / results.steady_state_baseline.Y * 100,\n",
    "        'Long-run C (%)': (results.steady_state_reform.C - results.steady_state_baseline.C) / results.steady_state_baseline.C * 100,\n",
    "        'Long-run T/Y': results.steady_state_reform.T / results.steady_state_reform.Y,\n",
    "        'Transition Period': results.transition_periods\n",
    "    }\n",
    "    summary_results = pd.concat([summary_results, pd.DataFrame([summary])], ignore_index=True)\n",
    "\n",
    "# CSVとして保存\n",
    "summary_results.to_csv('../results/advanced_simulation_summary.csv', index=False)\n",
    "print(\"結果サマリーを保存しました: ../results/advanced_simulation_summary.csv\")\n",
    "\n",
    "# 詳細レポートの生成\n",
    "for reform_name, results in simulation_results.items():\n",
    "    safe_name = reform_name.replace('（', '_').replace('）', '').replace('↑', 'up').replace('↓', 'down')\n",
    "    report_file = f'../results/report_{safe_name}.txt'\n",
    "    tax_simulator.generate_report(results, report_file)\n",
    "    print(f\"詳細レポートを生成: {report_file}\")"
   ]
  },
  {
   "cell_type": "markdown",
   "metadata": {},
   "source": [
    "## まとめと政策提言\n",
    "\n",
    "### 主要な発見\n",
    "\n",
    "1. **消費税引き上げの影響**\n",
    "   - 短期的には消費を抑制するが、長期的には財政の持続可能性を改善\n",
    "   - 段階的実施は即時実施と比べて移行コストを軽減\n",
    "\n",
    "2. **税制中立改革の有効性**\n",
    "   - 消費税増税と所得税減税の組み合わせは、税収を維持しながら労働供給を促進\n",
    "   - 厚生損失を最小限に抑えつつ、財政目標を達成可能\n",
    "\n",
    "3. **最適税制の特徴**\n",
    "   - 厚生最大化とGDP最大化では異なる税制構造が最適\n",
    "   - 効率性と公平性のトレードオフを考慮した税制設計が重要\n",
    "\n",
    "### 政策提言\n",
    "\n",
    "1. 税制改革は段階的に実施し、経済主体の調整コストを軽減すべき\n",
    "2. 単一税目の変更よりも、複数税目の組み合わせ改革が効果的\n",
    "3. 長期的な財政持続可能性と短期的な経済への影響のバランスを考慮\n",
    "4. 改革の実施時期は景気循環を考慮して決定すべき"
   ]
  },
  {
   "cell_type": "markdown",
   "metadata": {},
   "source": []
  },
  {
   "cell_type": "markdown",
   "metadata": {},
   "source": []
  }
 ],
 "metadata": {
  "kernelspec": {
   "display_name": "ludo",
   "language": "python",
   "name": "python3"
  },
  "language_info": {
   "name": "python",
   "version": "3.10.13"
  }
 },
 "nbformat": 4,
 "nbformat_minor": 4
}
