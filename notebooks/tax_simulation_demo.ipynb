{
 "cells": [
  {
   "cell_type": "markdown",
   "metadata": {},
   "source": [
    "# Japan Tax Simulator - DSGE Model Demo\n",
    "\n",
    "このノートブックでは、日本経済向けのDSGEモデルを使用して、税制変更がマクロ経済に与える影響をシミュレーションします。"
   ]
  },
  {
   "cell_type": "code",
   "execution_count": 22,
   "metadata": {},
   "outputs": [],
   "source": [
    "# 必要なライブラリのインポート\n",
    "import sys\n",
    "import os\n",
    "import numpy as np\n",
    "import pandas as pd\n",
    "import matplotlib.pyplot as plt\n",
    "import seaborn as sns\n",
    "\n",
    "# プロジェクトのルートディレクトリをPythonパスに追加\n",
    "# ノートブックはnotebooks/ディレクトリにあるため、親ディレクトリに移動\n",
    "sys.path.append('..') \n",
    "\n",
    "# DSGEモデルのインポート\n",
    "from src.dsge_model import DSGEModel, ModelParameters, load_model\n",
    "from src.tax_simulator import EnhancedTaxSimulator, TaxReform\n",
    "\n",
    "# プロット設定\n",
    "plt.rcParams['figure.figsize'] = (10, 6)\n",
    "plt.rcParams['font.size'] = 12\n",
    "plt.rcParams['font.family'] = 'sans-serif'\n",
    "\n",
    "# 日本語フォントの設定（環境に応じて調整が必要）\n",
    "# plt.rcParams['font.sans-serif'] = ['Hiragino Sans', 'Yu Gothic', 'Meiryo', 'DejaVu Sans']"
   ]
  },
  {
   "cell_type": "markdown",
   "metadata": {},
   "source": [
    "## 1. モデルの初期化と定常状態の計算"
   ]
  },
  {
   "cell_type": "code",
   "metadata": {},
   "outputs": [],
   "source": "# パラメータファイルからモデルを読み込み\nconfig_path = 'config/parameters.json'  # 相対パスを修正\nmodel = load_model(config_path)\n\n# パラメータの確認\nparams = model.params\nprint(\"=== 主要パラメータ ===\")\nprint(f\"割引因子 (beta): {params.beta}\")\nprint(f\"資本分配率 (alpha): {params.alpha}\")\nprint(f\"消費税率 (tau_c): {params.tau_c:.1%}\")\nprint(f\"所得税率 (tau_l): {params.tau_l:.1%}\")\nprint(f\"法人税率 (tau_f): {params.tau_f:.1%}\")"
  },
  {
   "cell_type": "code",
   "execution_count": 24,
   "metadata": {},
   "outputs": [
    {
     "name": "stdout",
     "output_type": "stream",
     "text": [
      "Warning: Optimization didn't converge but residuals are acceptable (max: 3.458612e-02)\n",
      "\n",
      "=== 定常状態の計算成功 ===\n",
      "\n",
      "主要マクロ変数:\n",
      "GDP (Y): 0.569\n",
      "消費 (C): 0.362\n",
      "投資 (I): 0.041\n",
      "政府支出 (G): 0.145\n",
      "労働時間 (L): 0.330\n",
      "\n",
      "税収:\n",
      "総税収 (T): 0.167\n",
      "消費税収 (Tc): 0.036\n",
      "所得税収 (Tl): 0.073\n",
      "法人税収 (Tf): 0.028\n",
      "\n",
      "主要比率:\n",
      "消費/GDP: 63.7%\n",
      "投資/GDP: 7.1%\n",
      "税収/GDP: 29.4%\n"
     ]
    }
   ],
   "source": [
    "# 定常状態の計算\n",
    "try:\n",
    "    steady_state = model.compute_steady_state()\n",
    "    print(\"\\n=== 定常状態の計算成功 ===\")\n",
    "    \n",
    "    # 主要変数の定常状態値を表示\n",
    "    ss_dict = steady_state.to_dict()\n",
    "    \n",
    "    print(\"\\n主要マクロ変数:\")\n",
    "    print(f\"GDP (Y): {ss_dict['Y']:.3f}\")\n",
    "    print(f\"消費 (C): {ss_dict['C']:.3f}\")\n",
    "    print(f\"投資 (I): {ss_dict['I']:.3f}\")\n",
    "    print(f\"政府支出 (G): {ss_dict['G']:.3f}\")\n",
    "    print(f\"労働時間 (L): {ss_dict['L']:.3f}\")\n",
    "    \n",
    "    print(\"\\n税収:\")\n",
    "    print(f\"総税収 (T): {ss_dict.get('T_total_revenue', ss_dict.get('T', 'N/A')):.3f}\")\n",
    "    print(f\"消費税収 (Tc): {ss_dict['Tc']:.3f}\")\n",
    "    print(f\"所得税収 (Tl): {ss_dict['Tl']:.3f}\")\n",
    "    print(f\"法人税収 (Tf): {ss_dict['Tf']:.3f}\")\n",
    "    \n",
    "    print(\"\\n主要比率:\")\n",
    "    print(f\"消費/GDP: {ss_dict['C']/ss_dict['Y']:.1%}\")\n",
    "    print(f\"投資/GDP: {ss_dict['I']/ss_dict['Y']:.1%}\")\n",
    "    total_revenue = ss_dict.get('T_total_revenue', ss_dict.get('T', 0))\n",
    "    if total_revenue != 'N/A':\n",
    "        print(f\"税収/GDP: {total_revenue/ss_dict['Y']:.1%}\")\n",
    "    \n",
    "except Exception as e:\n",
    "    print(f\"定常状態の計算に失敗しました: {e}\")\n",
    "    print(\"\\n簡略化したモデルで再試行します...\")"
   ]
  },
  {
   "cell_type": "markdown",
   "metadata": {},
   "source": [
    "## 2. モデルの線形化とインパルス応答関数"
   ]
  },
  {
   "cell_type": "code",
   "metadata": {},
   "outputs": [],
   "source": "# モデルの線形化（ImprovedLinearizedDSGEを使用）\nfrom src.linearization_improved import ImprovedLinearizedDSGE\n\ntry:\n    linear_model = ImprovedLinearizedDSGE(model, steady_state)\n    print(\"モデルの線形化が完了しました。\")\nexcept Exception as e:\n    print(f\"線形化に失敗しました: {e}\")\n    print(\"代替的な方法を試みます...\")\n    linear_model = None"
  },
  {
   "cell_type": "code",
   "metadata": {},
   "outputs": [],
   "source": "# TFPショックに対するインパルス応答\nif linear_model is not None:\n    try:\n        variables_to_plot = ['Y', 'C', 'I', 'L', 'w', 'pi_gross']\n        \n        irf_results = linear_model.compute_impulse_response(\n            shock_type='tfp',  # TFPショック\n            periods=40,\n            shock_size=0.01  # 1%ショック\n        )\n        \n        # プロット\n        fig, axes = plt.subplots(2, 3, figsize=(12, 8))\n        axes = axes.flatten()\n        \n        for i, var in enumerate(variables_to_plot):\n            if var in irf_results.columns:\n                ax = axes[i]\n                ax.plot(irf_results.index, irf_results[var] * 100, 'b-', linewidth=2)\n                ax.axhline(y=0, color='k', linestyle='--', alpha=0.5)\n                ax.set_xlabel('Quarters')\n                ax.set_ylabel('% deviation from steady state')\n                ax.set_title(f'{var}')\n                ax.grid(True, alpha=0.3)\n        \n        plt.suptitle('Impulse Response to TFP Shock')\n        plt.tight_layout()\n        plt.show()\n    except Exception as e:\n        print(f\"インパルス応答の計算に失敗しました: {e}\")\n        print(\"線形化モデルなしでシミュレーションを続行します...\")\nelse:\n    print(\"線形化モデルが利用できません。動的分析はスキップします。\")"
  },
  {
   "cell_type": "markdown",
   "metadata": {},
   "source": [
    "## 3. 税制変更シミュレーション"
   ]
  },
  {
   "cell_type": "code",
   "execution_count": 27,
   "metadata": {},
   "outputs": [
    {
     "name": "stdout",
     "output_type": "stream",
     "text": [
      "Warning: No steady state value for R_star_net_real, setting to 1.0\n",
      "Warning: No steady state value for R_star_net_real, setting to 1.0\n",
      "Adjusting system to be square: 29 equations -> 27 equations\n",
      "Forward-looking equations (6): [3, 5, 6, 8, 14, 21]\n",
      "System is overdetermined - removing equations while preserving structure...\n",
      "Identified critical equations: [9, 10]\n",
      "Keeping 27 equations: [ 2  3  4  5  6  7  8  9 10 11 12 13 14 15 16 17 19 20 21 22 23 24 25 26\n",
      " 27 28 29]\n",
      "Square system achieved: (27, 27) with rank 5\n",
      "A matrix is still rank deficient (5/27)\n",
      "Applying regularization with parameter: 1.46e-10\n",
      "Regularization improved rank to 23\n",
      "Matrix A shape: (27, 27)\n",
      "Matrix B shape: (27, 27)\n",
      "A matrix rank: 23\n",
      "B matrix rank: 26\n",
      "Number of explosive eigenvalues: 4\n",
      "Number of forward-looking variables: 5\n",
      "Warning: Blanchard-Kahn conditions not satisfied.\n",
      "This may indicate model indeterminacy or non-existence of solution.\n"
     ]
    }
   ],
   "source": [
    "# 税制シミュレータの初期化\n",
    "tax_simulator = EnhancedTaxSimulator(model)"
   ]
  },
  {
   "cell_type": "markdown",
   "metadata": {},
   "source": [
    "### 3.1 消費税率5%引き上げのシミュレーション"
   ]
  },
  {
   "cell_type": "code",
   "execution_count": 28,
   "metadata": {},
   "outputs": [
    {
     "name": "stdout",
     "output_type": "stream",
     "text": [
      "Using tax-adjusted initial guess for large tax change (magnitude: 0.050)\n"
     ]
    },
    {
     "ename": "AttributeError",
     "evalue": "'ImprovedLinearizedDSGE' object has no attribute 'n_s'",
     "output_type": "error",
     "traceback": [
      "\u001b[0;31m---------------------------------------------------------------------------\u001b[0m",
      "\u001b[0;31mAttributeError\u001b[0m                            Traceback (most recent call last)",
      "Cell \u001b[0;32mIn[28], line 9\u001b[0m\n\u001b[1;32m      2\u001b[0m consumption_tax_reform \u001b[38;5;241m=\u001b[39m TaxReform(\n\u001b[1;32m      3\u001b[0m     name\u001b[38;5;241m=\u001b[39m\u001b[38;5;124m\"\u001b[39m\u001b[38;5;124m消費税5\u001b[39m\u001b[38;5;124m%\u001b[39m\u001b[38;5;124m引き上げ\u001b[39m\u001b[38;5;124m\"\u001b[39m,\n\u001b[1;32m      4\u001b[0m     tau_c\u001b[38;5;241m=\u001b[39m\u001b[38;5;241m0.15\u001b[39m,  \u001b[38;5;66;03m# 15%\u001b[39;00m\n\u001b[1;32m      5\u001b[0m     implementation\u001b[38;5;241m=\u001b[39m\u001b[38;5;124m'\u001b[39m\u001b[38;5;124mpermanent\u001b[39m\u001b[38;5;124m'\u001b[39m\n\u001b[1;32m      6\u001b[0m )\n\u001b[1;32m      8\u001b[0m \u001b[38;5;66;03m# シミュレーション実行\u001b[39;00m\n\u001b[0;32m----> 9\u001b[0m consumption_tax_results \u001b[38;5;241m=\u001b[39m \u001b[43mtax_simulator\u001b[49m\u001b[38;5;241;43m.\u001b[39;49m\u001b[43msimulate_reform\u001b[49m\u001b[43m(\u001b[49m\n\u001b[1;32m     10\u001b[0m \u001b[43m    \u001b[49m\u001b[43mreform\u001b[49m\u001b[38;5;241;43m=\u001b[39;49m\u001b[43mconsumption_tax_reform\u001b[49m\u001b[43m,\u001b[49m\n\u001b[1;32m     11\u001b[0m \u001b[43m    \u001b[49m\u001b[43mperiods\u001b[49m\u001b[38;5;241;43m=\u001b[39;49m\u001b[38;5;241;43m40\u001b[39;49m\n\u001b[1;32m     12\u001b[0m \u001b[43m)\u001b[49m\n\u001b[1;32m     14\u001b[0m \u001b[38;5;28mprint\u001b[39m(\u001b[38;5;124mf\u001b[39m\u001b[38;5;124m\"\u001b[39m\u001b[38;5;124m消費税率変更: \u001b[39m\u001b[38;5;132;01m{\u001b[39;00mmodel\u001b[38;5;241m.\u001b[39mparams\u001b[38;5;241m.\u001b[39mtau_c\u001b[38;5;132;01m:\u001b[39;00m\u001b[38;5;124m.1%\u001b[39m\u001b[38;5;132;01m}\u001b[39;00m\u001b[38;5;124m → \u001b[39m\u001b[38;5;132;01m{\u001b[39;00mconsumption_tax_reform\u001b[38;5;241m.\u001b[39mtau_c\u001b[38;5;132;01m:\u001b[39;00m\u001b[38;5;124m.1%\u001b[39m\u001b[38;5;132;01m}\u001b[39;00m\u001b[38;5;124m\"\u001b[39m)\n\u001b[1;32m     15\u001b[0m \u001b[38;5;28mprint\u001b[39m(\u001b[38;5;124m\"\u001b[39m\u001b[38;5;130;01m\\n\u001b[39;00m\u001b[38;5;124m定常状態への影響（\u001b[39m\u001b[38;5;124m%\u001b[39m\u001b[38;5;124m変化）:\u001b[39m\u001b[38;5;124m\"\u001b[39m)\n",
      "File \u001b[0;32m~/Documents/JapanTaxSimulator/notebooks/../src/tax_simulator.py:126\u001b[0m, in \u001b[0;36mEnhancedTaxSimulator.simulate_reform\u001b[0;34m(self, reform, periods, compute_welfare)\u001b[0m\n\u001b[1;32m    124\u001b[0m \u001b[38;5;66;03m# Simulate transition path\u001b[39;00m\n\u001b[1;32m    125\u001b[0m \u001b[38;5;28;01mif\u001b[39;00m reform\u001b[38;5;241m.\u001b[39mimplementation \u001b[38;5;241m==\u001b[39m \u001b[38;5;124m'\u001b[39m\u001b[38;5;124mpermanent\u001b[39m\u001b[38;5;124m'\u001b[39m:\n\u001b[0;32m--> 126\u001b[0m     transition_path \u001b[38;5;241m=\u001b[39m \u001b[38;5;28;43mself\u001b[39;49m\u001b[38;5;241;43m.\u001b[39;49m\u001b[43m_simulate_permanent_reform\u001b[49m\u001b[43m(\u001b[49m\n\u001b[1;32m    127\u001b[0m \u001b[43m        \u001b[49m\u001b[43mreform\u001b[49m\u001b[38;5;241;43m.\u001b[39;49m\u001b[43mget_changes\u001b[49m\u001b[43m(\u001b[49m\u001b[38;5;28;43mself\u001b[39;49m\u001b[38;5;241;43m.\u001b[39;49m\u001b[43mbaseline_params\u001b[49m\u001b[43m)\u001b[49m\u001b[43m,\u001b[49m\u001b[43m \u001b[49m\u001b[43mperiods\u001b[49m\n\u001b[1;32m    128\u001b[0m \u001b[43m    \u001b[49m\u001b[43m)\u001b[49m\n\u001b[1;32m    129\u001b[0m \u001b[38;5;28;01melif\u001b[39;00m reform\u001b[38;5;241m.\u001b[39mimplementation \u001b[38;5;241m==\u001b[39m \u001b[38;5;124m'\u001b[39m\u001b[38;5;124mtemporary\u001b[39m\u001b[38;5;124m'\u001b[39m:\n\u001b[1;32m    130\u001b[0m     transition_path \u001b[38;5;241m=\u001b[39m \u001b[38;5;28mself\u001b[39m\u001b[38;5;241m.\u001b[39m_simulate_temporary_reform(\n\u001b[1;32m    131\u001b[0m         reform\u001b[38;5;241m.\u001b[39mget_changes(\u001b[38;5;28mself\u001b[39m\u001b[38;5;241m.\u001b[39mbaseline_params), \n\u001b[1;32m    132\u001b[0m         reform\u001b[38;5;241m.\u001b[39mduration \u001b[38;5;129;01mor\u001b[39;00m \u001b[38;5;241m20\u001b[39m, \n\u001b[1;32m    133\u001b[0m         periods\n\u001b[1;32m    134\u001b[0m     )\n",
      "File \u001b[0;32m~/Documents/JapanTaxSimulator/notebooks/../src/tax_simulator.py:198\u001b[0m, in \u001b[0;36mEnhancedTaxSimulator._simulate_permanent_reform\u001b[0;34m(self, tax_changes, periods)\u001b[0m\n\u001b[1;32m    195\u001b[0m     shock_sequence[:, \u001b[38;5;241m5\u001b[39m] \u001b[38;5;241m=\u001b[39m tax_changes[\u001b[38;5;124m'\u001b[39m\u001b[38;5;124mtau_f\u001b[39m\u001b[38;5;124m'\u001b[39m]\n\u001b[1;32m    197\u001b[0m \u001b[38;5;66;03m# Simulate path\u001b[39;00m\n\u001b[0;32m--> 198\u001b[0m \u001b[38;5;28;01mreturn\u001b[39;00m \u001b[38;5;28;43mself\u001b[39;49m\u001b[38;5;241;43m.\u001b[39;49m\u001b[43m_simulate_with_shocks\u001b[49m\u001b[43m(\u001b[49m\u001b[43mshock_sequence\u001b[49m\u001b[43m,\u001b[49m\u001b[43m \u001b[49m\u001b[43mperiods\u001b[49m\u001b[43m)\u001b[49m\n",
      "File \u001b[0;32m~/Documents/JapanTaxSimulator/notebooks/../src/tax_simulator.py:251\u001b[0m, in \u001b[0;36mEnhancedTaxSimulator._simulate_with_shocks\u001b[0;34m(self, shock_sequence, periods)\u001b[0m\n\u001b[1;32m    248\u001b[0m \u001b[38;5;28;01mfor\u001b[39;00m t \u001b[38;5;129;01min\u001b[39;00m \u001b[38;5;28mrange\u001b[39m(periods):\n\u001b[1;32m    249\u001b[0m     \u001b[38;5;66;03m# Apply shocks\u001b[39;00m\n\u001b[1;32m    250\u001b[0m     \u001b[38;5;28;01mif\u001b[39;00m t \u001b[38;5;241m<\u001b[39m \u001b[38;5;28mlen\u001b[39m(shock_sequence):\n\u001b[0;32m--> 251\u001b[0m         state_path[t, \u001b[38;5;28;43mself\u001b[39;49m\u001b[38;5;241;43m.\u001b[39;49m\u001b[43mlinear_model\u001b[49m\u001b[38;5;241;43m.\u001b[39;49m\u001b[43mn_s\u001b[49m:] \u001b[38;5;241m=\u001b[39m shock_sequence[t]\n\u001b[1;32m    253\u001b[0m     \u001b[38;5;66;03m# Compute controls\u001b[39;00m\n\u001b[1;32m    254\u001b[0m     control_path[t] \u001b[38;5;241m=\u001b[39m \u001b[38;5;28mself\u001b[39m\u001b[38;5;241m.\u001b[39mlinear_model\u001b[38;5;241m.\u001b[39mlinear_system\u001b[38;5;241m.\u001b[39mP \u001b[38;5;241m@\u001b[39m state_path[t]\n",
      "\u001b[0;31mAttributeError\u001b[0m: 'ImprovedLinearizedDSGE' object has no attribute 'n_s'"
     ]
    }
   ],
   "source": [
    "# 消費税率を10%から15%に引き上げ\n",
    "consumption_tax_reform = TaxReform(\n",
    "    name=\"消費税5%引き上げ\",\n",
    "    tau_c=0.15,  # 15%\n",
    "    implementation='permanent'\n",
    ")\n",
    "\n",
    "# シミュレーション実行\n",
    "consumption_tax_results = tax_simulator.simulate_reform(\n",
    "    reform=consumption_tax_reform,\n",
    "    periods=40\n",
    ")\n",
    "\n",
    "print(f\"消費税率変更: {model.params.tau_c:.1%} → {consumption_tax_reform.tau_c:.1%}\")\n",
    "print(\"\\n定常状態への影響（%変化）:\")\n",
    "\n",
    "# 主要変数の変化を表示\n",
    "baseline_ss = model.steady_state.to_dict()\n",
    "new_ss = consumption_tax_results.new_steady_state\n",
    "\n",
    "for var in ['Y', 'C', 'I', 'L']:\n",
    "    if hasattr(new_ss, var):\n",
    "        old_val = baseline_ss[var]\n",
    "        new_val = getattr(new_ss, var)\n",
    "        change = (new_val - old_val) / old_val * 100\n",
    "        print(f\"{var}: {change:+.2f}%\")"
   ]
  },
  {
   "cell_type": "code",
   "execution_count": null,
   "metadata": {},
   "outputs": [],
   "source": [
    "# 主要変数の推移をプロット\n",
    "variables_to_show = ['Y', 'C', 'I', 'L']\n",
    "\n",
    "# 結果を可視化\n",
    "tax_simulator.plot_results(consumption_tax_results, variables=variables_to_show)\n",
    "plt.show()"
   ]
  },
  {
   "cell_type": "code",
   "execution_count": null,
   "metadata": {},
   "outputs": [],
   "source": [
    "# 財政への影響を分析\n",
    "print(\"\\n=== 財政への影響 ===\")\n",
    "fiscal_impact = consumption_tax_results.get_fiscal_impact()\n",
    "for key, value in fiscal_impact.items():\n",
    "    print(f\"{key}: {value}\")"
   ]
  },
  {
   "cell_type": "markdown",
   "metadata": {},
   "source": [
    "### 3.2 所得税減税のシミュレーション"
   ]
  },
  {
   "cell_type": "code",
   "execution_count": null,
   "metadata": {},
   "outputs": [],
   "source": [
    "# 所得税率を20%から15%に引き下げ\n",
    "income_tax_reform = TaxReform(\n",
    "    name=\"所得税5%引き下げ\",\n",
    "    tau_l=0.15,  # 15%\n",
    "    implementation='permanent'\n",
    ")\n",
    "\n",
    "# シミュレーション実行\n",
    "income_tax_results = tax_simulator.simulate_reform(\n",
    "    reform=income_tax_reform,\n",
    "    periods=40\n",
    ")\n",
    "\n",
    "print(f\"所得税率変更: {model.params.tau_l:.1%} → {income_tax_reform.tau_l:.1%}\")\n",
    "print(\"\\n定常状態への影響（%変化）:\")\n",
    "\n",
    "# 主要変数の変化を表示\n",
    "baseline_ss = model.steady_state.to_dict()\n",
    "new_ss = income_tax_results.new_steady_state\n",
    "\n",
    "for var in ['Y', 'C', 'I', 'L']:\n",
    "    if hasattr(new_ss, var):\n",
    "        old_val = baseline_ss[var]\n",
    "        new_val = getattr(new_ss, var)\n",
    "        change = (new_val - old_val) / old_val * 100\n",
    "        print(f\"{var}: {change:+.2f}%\")"
   ]
  },
  {
   "cell_type": "markdown",
   "metadata": {},
   "source": [
    "### 3.3 複合的な税制改革のシミュレーション"
   ]
  },
  {
   "cell_type": "code",
   "execution_count": null,
   "metadata": {},
   "outputs": [],
   "source": [
    "# 消費税増税と所得税減税を同時に実施\n",
    "combined_reform = TaxReform(\n",
    "    name=\"税制中立改革\",\n",
    "    tau_c=0.15,  # 消費税15%\n",
    "    tau_l=0.15,  # 所得税15%\n",
    "    implementation='permanent'\n",
    ")\n",
    "\n",
    "# シミュレーション実行\n",
    "combined_results = tax_simulator.simulate_reform(\n",
    "    reform=combined_reform,\n",
    "    periods=40\n",
    ")\n",
    "\n",
    "print(\"複合的税制改革の影響:\")\n",
    "print(f\"消費税: {model.params.tau_c:.0%} → {combined_reform.tau_c:.0%}\")\n",
    "print(f\"所得税: {model.params.tau_l:.0%} → {combined_reform.tau_l:.0%}\")\n",
    "print(\"\\n定常状態への影響（%変化）:\")\n",
    "\n",
    "# 主要変数の変化を表示\n",
    "baseline_ss = model.steady_state.to_dict()\n",
    "new_ss = combined_results.new_steady_state\n",
    "\n",
    "for var in ['Y', 'C', 'I', 'L']:\n",
    "    if hasattr(new_ss, var):\n",
    "        old_val = baseline_ss[var]\n",
    "        new_val = getattr(new_ss, var)\n",
    "        change = (new_val - old_val) / old_val * 100\n",
    "        print(f\"{var}: {change:+.2f}%\")"
   ]
  },
  {
   "cell_type": "markdown",
   "metadata": {},
   "source": [
    "## 4. 税制シナリオの比較分析"
   ]
  },
  {
   "cell_type": "code",
   "execution_count": null,
   "metadata": {},
   "outputs": [],
   "source": [
    "# 異なる税制シナリオの比較\n",
    "scenarios = {\n",
    "    'ベースライン': {'tau_c': 0.10, 'tau_l': 0.20, 'tau_f': 0.30},\n",
    "    '消費税15%': {'tau_c': 0.15, 'tau_l': 0.20, 'tau_f': 0.30},\n",
    "    '所得税15%': {'tau_c': 0.10, 'tau_l': 0.15, 'tau_f': 0.30},\n",
    "    '法人税25%': {'tau_c': 0.10, 'tau_l': 0.20, 'tau_f': 0.25},\n",
    "    '複合改革': {'tau_c': 0.15, 'tau_l': 0.15, 'tau_f': 0.30}\n",
    "}\n",
    "\n",
    "results_summary = pd.DataFrame()\n",
    "\n",
    "for scenario_name, tax_rates in scenarios.items():\n",
    "    # パラメータを設定\n",
    "    scenario_params = ModelParameters()\n",
    "    for attr in dir(model.params):\n",
    "        if not attr.startswith('_'):\n",
    "            setattr(scenario_params, attr, getattr(model.params, attr))\n",
    "    \n",
    "    # 税率を更新\n",
    "    for tax, rate in tax_rates.items():\n",
    "        setattr(scenario_params, tax, rate)\n",
    "    \n",
    "    # モデルを作成し定常状態を計算\n",
    "    scenario_model = DSGEModel(scenario_params)\n",
    "    try:\n",
    "        scenario_ss = scenario_model.compute_steady_state()\n",
    "        \n",
    "        # 結果を記録\n",
    "        results = {\n",
    "            'GDP': scenario_ss.Y,\n",
    "            '消費': scenario_ss.C,\n",
    "            '投資': scenario_ss.I,\n",
    "            '労働': scenario_ss.L,\n",
    "            '総税収': scenario_ss.T_total_revenue,\n",
    "            '税収/GDP': scenario_ss.T_total_revenue / scenario_ss.Y,\n",
    "            '債務/GDP': scenario_ss.B / (4 * scenario_ss.Y)  # 年率換算\n",
    "        }\n",
    "        \n",
    "        results_summary[scenario_name] = pd.Series(results)\n",
    "    except Exception as e:\n",
    "        print(f\"シナリオ '{scenario_name}' の計算に失敗しました: {e}\")\n",
    "\n",
    "# 結果を表示\n",
    "if not results_summary.empty:\n",
    "    print(\"\\n=== シナリオ比較 ===\")\n",
    "    print(results_summary.round(3))\n",
    "    \n",
    "    # ベースラインとの比較（%変化）\n",
    "    if 'ベースライン' in results_summary.columns:\n",
    "        print(\"\\n=== ベースラインからの変化（%） ===\")\n",
    "        baseline = results_summary['ベースライン']\n",
    "        for col in results_summary.columns:\n",
    "            if col != 'ベースライン':\n",
    "                pct_change = (results_summary[col] - baseline) / baseline * 100\n",
    "                print(f\"\\n{col}:\")\n",
    "                print(pct_change.round(2))"
   ]
  },
  {
   "cell_type": "code",
   "execution_count": null,
   "metadata": {},
   "outputs": [
    {
     "name": "stderr",
     "output_type": "stream",
     "text": [
      "/var/folders/j7/dt49wbfj04b3l95m4w37j71h0000gn/T/ipykernel_12583/3356272696.py:34: UserWarning: Glyph 12505 (\\N{KATAKANA LETTER BE}) missing from current font.\n",
      "  plt.tight_layout()\n",
      "/var/folders/j7/dt49wbfj04b3l95m4w37j71h0000gn/T/ipykernel_12583/3356272696.py:34: UserWarning: Glyph 12540 (\\N{KATAKANA-HIRAGANA PROLONGED SOUND MARK}) missing from current font.\n",
      "  plt.tight_layout()\n",
      "/var/folders/j7/dt49wbfj04b3l95m4w37j71h0000gn/T/ipykernel_12583/3356272696.py:34: UserWarning: Glyph 12473 (\\N{KATAKANA LETTER SU}) missing from current font.\n",
      "  plt.tight_layout()\n",
      "/var/folders/j7/dt49wbfj04b3l95m4w37j71h0000gn/T/ipykernel_12583/3356272696.py:34: UserWarning: Glyph 12521 (\\N{KATAKANA LETTER RA}) missing from current font.\n",
      "  plt.tight_layout()\n",
      "/var/folders/j7/dt49wbfj04b3l95m4w37j71h0000gn/T/ipykernel_12583/3356272696.py:34: UserWarning: Glyph 12452 (\\N{KATAKANA LETTER I}) missing from current font.\n",
      "  plt.tight_layout()\n",
      "/var/folders/j7/dt49wbfj04b3l95m4w37j71h0000gn/T/ipykernel_12583/3356272696.py:34: UserWarning: Glyph 12531 (\\N{KATAKANA LETTER N}) missing from current font.\n",
      "  plt.tight_layout()\n",
      "/var/folders/j7/dt49wbfj04b3l95m4w37j71h0000gn/T/ipykernel_12583/3356272696.py:34: UserWarning: Glyph 28040 (\\N{CJK UNIFIED IDEOGRAPH-6D88}) missing from current font.\n",
      "  plt.tight_layout()\n",
      "/var/folders/j7/dt49wbfj04b3l95m4w37j71h0000gn/T/ipykernel_12583/3356272696.py:34: UserWarning: Glyph 36027 (\\N{CJK UNIFIED IDEOGRAPH-8CBB}) missing from current font.\n",
      "  plt.tight_layout()\n",
      "/var/folders/j7/dt49wbfj04b3l95m4w37j71h0000gn/T/ipykernel_12583/3356272696.py:34: UserWarning: Glyph 31246 (\\N{CJK UNIFIED IDEOGRAPH-7A0E}) missing from current font.\n",
      "  plt.tight_layout()\n",
      "/var/folders/j7/dt49wbfj04b3l95m4w37j71h0000gn/T/ipykernel_12583/3356272696.py:34: UserWarning: Glyph 25152 (\\N{CJK UNIFIED IDEOGRAPH-6240}) missing from current font.\n",
      "  plt.tight_layout()\n",
      "/var/folders/j7/dt49wbfj04b3l95m4w37j71h0000gn/T/ipykernel_12583/3356272696.py:34: UserWarning: Glyph 24471 (\\N{CJK UNIFIED IDEOGRAPH-5F97}) missing from current font.\n",
      "  plt.tight_layout()\n",
      "/var/folders/j7/dt49wbfj04b3l95m4w37j71h0000gn/T/ipykernel_12583/3356272696.py:34: UserWarning: Glyph 27861 (\\N{CJK UNIFIED IDEOGRAPH-6CD5}) missing from current font.\n",
      "  plt.tight_layout()\n",
      "/var/folders/j7/dt49wbfj04b3l95m4w37j71h0000gn/T/ipykernel_12583/3356272696.py:34: UserWarning: Glyph 20154 (\\N{CJK UNIFIED IDEOGRAPH-4EBA}) missing from current font.\n",
      "  plt.tight_layout()\n",
      "/var/folders/j7/dt49wbfj04b3l95m4w37j71h0000gn/T/ipykernel_12583/3356272696.py:34: UserWarning: Glyph 35079 (\\N{CJK UNIFIED IDEOGRAPH-8907}) missing from current font.\n",
      "  plt.tight_layout()\n",
      "/var/folders/j7/dt49wbfj04b3l95m4w37j71h0000gn/T/ipykernel_12583/3356272696.py:34: UserWarning: Glyph 21512 (\\N{CJK UNIFIED IDEOGRAPH-5408}) missing from current font.\n",
      "  plt.tight_layout()\n",
      "/var/folders/j7/dt49wbfj04b3l95m4w37j71h0000gn/T/ipykernel_12583/3356272696.py:34: UserWarning: Glyph 25913 (\\N{CJK UNIFIED IDEOGRAPH-6539}) missing from current font.\n",
      "  plt.tight_layout()\n",
      "/var/folders/j7/dt49wbfj04b3l95m4w37j71h0000gn/T/ipykernel_12583/3356272696.py:34: UserWarning: Glyph 38761 (\\N{CJK UNIFIED IDEOGRAPH-9769}) missing from current font.\n",
      "  plt.tight_layout()\n",
      "/var/folders/j7/dt49wbfj04b3l95m4w37j71h0000gn/T/ipykernel_12583/3356272696.py:34: UserWarning: Glyph 27700 (\\N{CJK UNIFIED IDEOGRAPH-6C34}) missing from current font.\n",
      "  plt.tight_layout()\n",
      "/var/folders/j7/dt49wbfj04b3l95m4w37j71h0000gn/T/ipykernel_12583/3356272696.py:34: UserWarning: Glyph 28310 (\\N{CJK UNIFIED IDEOGRAPH-6E96}) missing from current font.\n",
      "  plt.tight_layout()\n",
      "/var/folders/j7/dt49wbfj04b3l95m4w37j71h0000gn/T/ipykernel_12583/3356272696.py:34: UserWarning: Glyph 12398 (\\N{HIRAGANA LETTER NO}) missing from current font.\n",
      "  plt.tight_layout()\n",
      "/var/folders/j7/dt49wbfj04b3l95m4w37j71h0000gn/T/ipykernel_12583/3356272696.py:34: UserWarning: Glyph 27604 (\\N{CJK UNIFIED IDEOGRAPH-6BD4}) missing from current font.\n",
      "  plt.tight_layout()\n",
      "/var/folders/j7/dt49wbfj04b3l95m4w37j71h0000gn/T/ipykernel_12583/3356272696.py:34: UserWarning: Glyph 36611 (\\N{CJK UNIFIED IDEOGRAPH-8F03}) missing from current font.\n",
      "  plt.tight_layout()\n",
      "/var/folders/j7/dt49wbfj04b3l95m4w37j71h0000gn/T/ipykernel_12583/3356272696.py:34: UserWarning: Glyph 21454 (\\N{CJK UNIFIED IDEOGRAPH-53CE}) missing from current font.\n",
      "  plt.tight_layout()\n",
      "/var/folders/j7/dt49wbfj04b3l95m4w37j71h0000gn/T/ipykernel_12583/3356272696.py:34: UserWarning: Glyph 29575 (\\N{CJK UNIFIED IDEOGRAPH-7387}) missing from current font.\n",
      "  plt.tight_layout()\n",
      "/var/folders/j7/dt49wbfj04b3l95m4w37j71h0000gn/T/ipykernel_12583/3356272696.py:34: UserWarning: Glyph 12392 (\\N{HIRAGANA LETTER TO}) missing from current font.\n",
      "  plt.tight_layout()\n",
      "/var/folders/j7/dt49wbfj04b3l95m4w37j71h0000gn/T/ipykernel_12583/3356272696.py:34: UserWarning: Glyph 25237 (\\N{CJK UNIFIED IDEOGRAPH-6295}) missing from current font.\n",
      "  plt.tight_layout()\n",
      "/var/folders/j7/dt49wbfj04b3l95m4w37j71h0000gn/T/ipykernel_12583/3356272696.py:34: UserWarning: Glyph 36039 (\\N{CJK UNIFIED IDEOGRAPH-8CC7}) missing from current font.\n",
      "  plt.tight_layout()\n",
      "/var/folders/j7/dt49wbfj04b3l95m4w37j71h0000gn/T/ipykernel_12583/3356272696.py:34: UserWarning: Glyph 21172 (\\N{CJK UNIFIED IDEOGRAPH-52B4}) missing from current font.\n",
      "  plt.tight_layout()\n",
      "/var/folders/j7/dt49wbfj04b3l95m4w37j71h0000gn/T/ipykernel_12583/3356272696.py:34: UserWarning: Glyph 20685 (\\N{CJK UNIFIED IDEOGRAPH-50CD}) missing from current font.\n",
      "  plt.tight_layout()\n",
      "/var/folders/j7/dt49wbfj04b3l95m4w37j71h0000gn/T/ipykernel_12583/3356272696.py:34: UserWarning: Glyph 26178 (\\N{CJK UNIFIED IDEOGRAPH-6642}) missing from current font.\n",
      "  plt.tight_layout()\n",
      "/var/folders/j7/dt49wbfj04b3l95m4w37j71h0000gn/T/ipykernel_12583/3356272696.py:34: UserWarning: Glyph 38291 (\\N{CJK UNIFIED IDEOGRAPH-9593}) missing from current font.\n",
      "  plt.tight_layout()\n",
      "/Users/daisukeyoda/miniforge3/envs/ludo/lib/python3.10/site-packages/IPython/core/pylabtools.py:152: UserWarning: Glyph 31246 (\\N{CJK UNIFIED IDEOGRAPH-7A0E}) missing from current font.\n",
      "  fig.canvas.print_figure(bytes_io, **kw)\n",
      "/Users/daisukeyoda/miniforge3/envs/ludo/lib/python3.10/site-packages/IPython/core/pylabtools.py:152: UserWarning: Glyph 21454 (\\N{CJK UNIFIED IDEOGRAPH-53CE}) missing from current font.\n",
      "  fig.canvas.print_figure(bytes_io, **kw)\n",
      "/Users/daisukeyoda/miniforge3/envs/ludo/lib/python3.10/site-packages/IPython/core/pylabtools.py:152: UserWarning: Glyph 27700 (\\N{CJK UNIFIED IDEOGRAPH-6C34}) missing from current font.\n",
      "  fig.canvas.print_figure(bytes_io, **kw)\n",
      "/Users/daisukeyoda/miniforge3/envs/ludo/lib/python3.10/site-packages/IPython/core/pylabtools.py:152: UserWarning: Glyph 28310 (\\N{CJK UNIFIED IDEOGRAPH-6E96}) missing from current font.\n",
      "  fig.canvas.print_figure(bytes_io, **kw)\n",
      "/Users/daisukeyoda/miniforge3/envs/ludo/lib/python3.10/site-packages/IPython/core/pylabtools.py:152: UserWarning: Glyph 21172 (\\N{CJK UNIFIED IDEOGRAPH-52B4}) missing from current font.\n",
      "  fig.canvas.print_figure(bytes_io, **kw)\n",
      "/Users/daisukeyoda/miniforge3/envs/ludo/lib/python3.10/site-packages/IPython/core/pylabtools.py:152: UserWarning: Glyph 20685 (\\N{CJK UNIFIED IDEOGRAPH-50CD}) missing from current font.\n",
      "  fig.canvas.print_figure(bytes_io, **kw)\n",
      "/Users/daisukeyoda/miniforge3/envs/ludo/lib/python3.10/site-packages/IPython/core/pylabtools.py:152: UserWarning: Glyph 26178 (\\N{CJK UNIFIED IDEOGRAPH-6642}) missing from current font.\n",
      "  fig.canvas.print_figure(bytes_io, **kw)\n",
      "/Users/daisukeyoda/miniforge3/envs/ludo/lib/python3.10/site-packages/IPython/core/pylabtools.py:152: UserWarning: Glyph 38291 (\\N{CJK UNIFIED IDEOGRAPH-9593}) missing from current font.\n",
      "  fig.canvas.print_figure(bytes_io, **kw)\n",
      "/Users/daisukeyoda/miniforge3/envs/ludo/lib/python3.10/site-packages/IPython/core/pylabtools.py:152: UserWarning: Glyph 12398 (\\N{HIRAGANA LETTER NO}) missing from current font.\n",
      "  fig.canvas.print_figure(bytes_io, **kw)\n",
      "/Users/daisukeyoda/miniforge3/envs/ludo/lib/python3.10/site-packages/IPython/core/pylabtools.py:152: UserWarning: Glyph 27604 (\\N{CJK UNIFIED IDEOGRAPH-6BD4}) missing from current font.\n",
      "  fig.canvas.print_figure(bytes_io, **kw)\n",
      "/Users/daisukeyoda/miniforge3/envs/ludo/lib/python3.10/site-packages/IPython/core/pylabtools.py:152: UserWarning: Glyph 36611 (\\N{CJK UNIFIED IDEOGRAPH-8F03}) missing from current font.\n",
      "  fig.canvas.print_figure(bytes_io, **kw)\n",
      "/Users/daisukeyoda/miniforge3/envs/ludo/lib/python3.10/site-packages/IPython/core/pylabtools.py:152: UserWarning: Glyph 12505 (\\N{KATAKANA LETTER BE}) missing from current font.\n",
      "  fig.canvas.print_figure(bytes_io, **kw)\n",
      "/Users/daisukeyoda/miniforge3/envs/ludo/lib/python3.10/site-packages/IPython/core/pylabtools.py:152: UserWarning: Glyph 12540 (\\N{KATAKANA-HIRAGANA PROLONGED SOUND MARK}) missing from current font.\n",
      "  fig.canvas.print_figure(bytes_io, **kw)\n",
      "/Users/daisukeyoda/miniforge3/envs/ludo/lib/python3.10/site-packages/IPython/core/pylabtools.py:152: UserWarning: Glyph 12473 (\\N{KATAKANA LETTER SU}) missing from current font.\n",
      "  fig.canvas.print_figure(bytes_io, **kw)\n",
      "/Users/daisukeyoda/miniforge3/envs/ludo/lib/python3.10/site-packages/IPython/core/pylabtools.py:152: UserWarning: Glyph 12521 (\\N{KATAKANA LETTER RA}) missing from current font.\n",
      "  fig.canvas.print_figure(bytes_io, **kw)\n",
      "/Users/daisukeyoda/miniforge3/envs/ludo/lib/python3.10/site-packages/IPython/core/pylabtools.py:152: UserWarning: Glyph 12452 (\\N{KATAKANA LETTER I}) missing from current font.\n",
      "  fig.canvas.print_figure(bytes_io, **kw)\n",
      "/Users/daisukeyoda/miniforge3/envs/ludo/lib/python3.10/site-packages/IPython/core/pylabtools.py:152: UserWarning: Glyph 12531 (\\N{KATAKANA LETTER N}) missing from current font.\n",
      "  fig.canvas.print_figure(bytes_io, **kw)\n",
      "/Users/daisukeyoda/miniforge3/envs/ludo/lib/python3.10/site-packages/IPython/core/pylabtools.py:152: UserWarning: Glyph 28040 (\\N{CJK UNIFIED IDEOGRAPH-6D88}) missing from current font.\n",
      "  fig.canvas.print_figure(bytes_io, **kw)\n",
      "/Users/daisukeyoda/miniforge3/envs/ludo/lib/python3.10/site-packages/IPython/core/pylabtools.py:152: UserWarning: Glyph 36027 (\\N{CJK UNIFIED IDEOGRAPH-8CBB}) missing from current font.\n",
      "  fig.canvas.print_figure(bytes_io, **kw)\n",
      "/Users/daisukeyoda/miniforge3/envs/ludo/lib/python3.10/site-packages/IPython/core/pylabtools.py:152: UserWarning: Glyph 25152 (\\N{CJK UNIFIED IDEOGRAPH-6240}) missing from current font.\n",
      "  fig.canvas.print_figure(bytes_io, **kw)\n",
      "/Users/daisukeyoda/miniforge3/envs/ludo/lib/python3.10/site-packages/IPython/core/pylabtools.py:152: UserWarning: Glyph 24471 (\\N{CJK UNIFIED IDEOGRAPH-5F97}) missing from current font.\n",
      "  fig.canvas.print_figure(bytes_io, **kw)\n",
      "/Users/daisukeyoda/miniforge3/envs/ludo/lib/python3.10/site-packages/IPython/core/pylabtools.py:152: UserWarning: Glyph 27861 (\\N{CJK UNIFIED IDEOGRAPH-6CD5}) missing from current font.\n",
      "  fig.canvas.print_figure(bytes_io, **kw)\n",
      "/Users/daisukeyoda/miniforge3/envs/ludo/lib/python3.10/site-packages/IPython/core/pylabtools.py:152: UserWarning: Glyph 20154 (\\N{CJK UNIFIED IDEOGRAPH-4EBA}) missing from current font.\n",
      "  fig.canvas.print_figure(bytes_io, **kw)\n",
      "/Users/daisukeyoda/miniforge3/envs/ludo/lib/python3.10/site-packages/IPython/core/pylabtools.py:152: UserWarning: Glyph 35079 (\\N{CJK UNIFIED IDEOGRAPH-8907}) missing from current font.\n",
      "  fig.canvas.print_figure(bytes_io, **kw)\n",
      "/Users/daisukeyoda/miniforge3/envs/ludo/lib/python3.10/site-packages/IPython/core/pylabtools.py:152: UserWarning: Glyph 21512 (\\N{CJK UNIFIED IDEOGRAPH-5408}) missing from current font.\n",
      "  fig.canvas.print_figure(bytes_io, **kw)\n",
      "/Users/daisukeyoda/miniforge3/envs/ludo/lib/python3.10/site-packages/IPython/core/pylabtools.py:152: UserWarning: Glyph 25913 (\\N{CJK UNIFIED IDEOGRAPH-6539}) missing from current font.\n",
      "  fig.canvas.print_figure(bytes_io, **kw)\n",
      "/Users/daisukeyoda/miniforge3/envs/ludo/lib/python3.10/site-packages/IPython/core/pylabtools.py:152: UserWarning: Glyph 38761 (\\N{CJK UNIFIED IDEOGRAPH-9769}) missing from current font.\n",
      "  fig.canvas.print_figure(bytes_io, **kw)\n",
      "/Users/daisukeyoda/miniforge3/envs/ludo/lib/python3.10/site-packages/IPython/core/pylabtools.py:152: UserWarning: Glyph 29575 (\\N{CJK UNIFIED IDEOGRAPH-7387}) missing from current font.\n",
      "  fig.canvas.print_figure(bytes_io, **kw)\n",
      "/Users/daisukeyoda/miniforge3/envs/ludo/lib/python3.10/site-packages/IPython/core/pylabtools.py:152: UserWarning: Glyph 12392 (\\N{HIRAGANA LETTER TO}) missing from current font.\n",
      "  fig.canvas.print_figure(bytes_io, **kw)\n",
      "/Users/daisukeyoda/miniforge3/envs/ludo/lib/python3.10/site-packages/IPython/core/pylabtools.py:152: UserWarning: Glyph 25237 (\\N{CJK UNIFIED IDEOGRAPH-6295}) missing from current font.\n",
      "  fig.canvas.print_figure(bytes_io, **kw)\n",
      "/Users/daisukeyoda/miniforge3/envs/ludo/lib/python3.10/site-packages/IPython/core/pylabtools.py:152: UserWarning: Glyph 36039 (\\N{CJK UNIFIED IDEOGRAPH-8CC7}) missing from current font.\n",
      "  fig.canvas.print_figure(bytes_io, **kw)\n"
     ]
    },
    {
     "data": {
      "image/png": "[encoded data removed]",
      "text/plain": [
       "<Figure size 1200x1000 with 4 Axes>"
      ]
     },
     "metadata": {},
     "output_type": "display_data"
    }
   ],
   "source": [
    "# シナリオ比較のグラフ化\n",
    "if not results_summary.empty:\n",
    "    fig, axes = plt.subplots(2, 2, figsize=(12, 10))\n",
    "    \n",
    "    # GDP比較\n",
    "    ax = axes[0, 0]\n",
    "    results_summary.loc['GDP'].plot(kind='bar', ax=ax)\n",
    "    ax.set_title('GDP水準の比較')\n",
    "    ax.set_ylabel('GDP')\n",
    "    ax.tick_params(axis='x', rotation=45)\n",
    "    \n",
    "    # 税収/GDP比率\n",
    "    ax = axes[0, 1]\n",
    "    (results_summary.loc['税収/GDP'] * 100).plot(kind='bar', ax=ax)\n",
    "    ax.set_title('税収/GDP比率の比較')\n",
    "    ax.set_ylabel('税収/GDP (%)')\n",
    "    ax.tick_params(axis='x', rotation=45)\n",
    "    \n",
    "    # 消費と投資\n",
    "    ax = axes[1, 0]\n",
    "    results_summary.loc[['消費', '投資']].T.plot(kind='bar', ax=ax)\n",
    "    ax.set_title('消費と投資の比較')\n",
    "    ax.set_ylabel('水準')\n",
    "    ax.tick_params(axis='x', rotation=45)\n",
    "    ax.legend(['消費', '投資'])\n",
    "    \n",
    "    # 労働時間\n",
    "    ax = axes[1, 1]\n",
    "    results_summary.loc['労働'].plot(kind='bar', ax=ax)\n",
    "    ax.set_title('労働時間の比較')\n",
    "    ax.set_ylabel('労働時間')\n",
    "    ax.tick_params(axis='x', rotation=45)\n",
    "    \n",
    "    plt.tight_layout()\n",
    "    plt.show()"
   ]
  },
  {
   "cell_type": "markdown",
   "metadata": {},
   "source": [
    "## 5. 結果のエクスポート"
   ]
  },
  {
   "cell_type": "code",
   "metadata": {},
   "outputs": [],
   "source": "# 結果をCSVファイルに保存\nif not results_summary.empty:\n    results_summary.to_csv('results/scenario_comparison.csv')  # パス修正\n    print(\"結果を 'results/scenario_comparison.csv' に保存しました。\")\n    \n    # 詳細レポートの作成\n    with open('results/tax_simulation_report.txt', 'w', encoding='utf-8') as f:  # パス修正\n        f.write(\"日本税制シミュレーション結果レポート\\n\")\n        f.write(\"=\" * 50 + \"\\n\\n\")\n        \n        f.write(\"1. モデルパラメータ\\n\")\n        f.write(\"-\" * 30 + \"\\n\")\n        f.write(f\"割引因子 (beta): {params.beta}\\n\")\n        f.write(f\"資本分配率 (alpha): {params.alpha}\\n\")\n        f.write(f\"価格硬直性 (theta_p): {params.theta_p}\\n\")\n        f.write(f\"\\n\")\n        \n        f.write(\"2. シナリオ別結果\\n\")\n        f.write(\"-\" * 30 + \"\\n\")\n        f.write(results_summary.to_string())\n        f.write(\"\\n\\n\")\n        \n        if 'ベースライン' in results_summary.columns:\n            f.write(\"3. ベースラインからの変化（%）\\n\")\n            f.write(\"-\" * 30 + \"\\n\")\n            baseline = results_summary['ベースライン']\n            for col in results_summary.columns:\n                if col != 'ベースライン':\n                    f.write(f\"\\n{col}:\\n\")\n                    pct_change = (results_summary[col] - baseline) / baseline * 100\n                    f.write(pct_change.round(2).to_string())\n                    f.write(\"\\n\")\n    \n    print(\"詳細レポートを 'results/tax_simulation_report.txt' に保存しました。\")"
  },
  {
   "cell_type": "markdown",
   "metadata": {},
   "source": [
    "## まとめ\n",
    "\n",
    "このデモンストレーションでは、日本経済向けのDSGEモデルを使用して、以下の分析を行いました：\n",
    "\n",
    "1. **モデルの定常状態の計算**: 現行税制下での経済の均衡状態を求めました\n",
    "2. **インパルス応答分析**: 各種ショックが経済に与える動的な影響を分析しました\n",
    "3. **税制変更シミュレーション**: 消費税、所得税、法人税の変更が経済に与える影響を定量的に評価しました\n",
    "4. **シナリオ比較**: 複数の税制改革案を比較し、それぞれの経済効果を分析しました\n",
    "\n",
    "### 主な発見\n",
    "\n",
    "- 消費税の引き上げは、短期的には消費を抑制しますが、税収の安定的な増加をもたらします\n",
    "- 所得税の減税は、労働供給を刺激し、GDPの増加につながる可能性があります\n",
    "- 複合的な税制改革（消費税増税＋所得税減税）は、税収を維持しながら経済活動を活性化する可能性があります\n",
    "\n",
    "### 今後の拡張可能性\n",
    "\n",
    "1. **モデルの精緻化**: 金融摩擦、異質的家計、開放経済などの要素を追加\n",
    "2. **推定**: ベイズ推定を用いてパラメータを日本のデータから推定\n",
    "3. **政策分析**: より複雑な税制改革シナリオの分析\n",
    "4. **不確実性分析**: パラメータの不確実性を考慮した分析"
   ]
  }
 ],
 "metadata": {
  "kernelspec": {
   "display_name": "ludo",
   "language": "python",
   "name": "python3"
  },
  "language_info": {
   "codemirror_mode": {
    "name": "ipython",
    "version": 3
   },
   "file_extension": ".py",
   "mimetype": "text/x-python",
   "name": "python",
   "nbconvert_exporter": "python",
   "pygments_lexer": "ipython3",
   "version": "3.10.13"
  }
 },
 "nbformat": 4,
 "nbformat_minor": 4
}