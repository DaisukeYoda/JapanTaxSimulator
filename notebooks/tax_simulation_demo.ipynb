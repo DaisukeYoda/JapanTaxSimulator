{
 "cells": [
  {
   "cell_type": "markdown",
   "metadata": {},
   "source": [
    "# Japan Tax Simulator - DSGE Model Demo\n",
    "\n",
    "このノートブックでは、日本経済向けのDSGEモデルを使用して、税制変更がマクロ経済に与える影響をシミュレーションします。"
   ]
  },
  {
   "cell_type": "code",
   "execution_count": 5,
   "metadata": {},
   "outputs": [],
   "source": [
    "# 必要なライブラリのインポート\n",
    "import sys\n",
    "import os\n",
    "import numpy as np\n",
    "import pandas as pd\n",
    "import matplotlib.pyplot as plt\n",
    "import seaborn as sns\n",
    "\n",
    "# プロジェクトのルートディレクトリをPythonパスに追加\n",
    "sys.path.append(os.path.dirname(os.getcwd()))\n",
    "\n",
    "# DSGEモデルのインポート\n",
    "from src.dsge_model import DSGEModel, ModelParameters, load_model\n",
    "from src.linearization import LinearizedDSGE, TaxSimulator\n",
    "\n",
    "# プロット設定\n",
    "plt.rcParams['figure.figsize'] = (10, 6)\n",
    "plt.rcParams['font.size'] = 12\n",
    "plt.rcParams['font.family'] = 'sans-serif'\n",
    "\n",
    "# 日本語フォントの設定（環境に応じて調整が必要）\n",
    "# plt.rcParams['font.sans-serif'] = ['Hiragino Sans', 'Yu Gothic', 'Meiryo', 'DejaVu Sans']"
   ]
  },
  {
   "cell_type": "markdown",
   "metadata": {},
   "source": [
    "## 1. モデルの初期化と定常状態の計算"
   ]
  },
  {
   "cell_type": "code",
   "execution_count": 6,
   "metadata": {},
   "outputs": [
    {
     "name": "stdout",
     "output_type": "stream",
     "text": [
      "=== 主要パラメータ ===\n",
      "割引因子 (beta): 0.99\n",
      "資本分配率 (alpha): 0.33\n",
      "消費税率 (tau_c): 10.0%\n",
      "所得税率 (tau_l): 20.0%\n",
      "法人税率 (tau_f): 30.0%\n"
     ]
    }
   ],
   "source": [
    "# パラメータファイルからモデルを読み込み\n",
    "config_path = '../config/parameters.json'\n",
    "model = load_model(config_path)\n",
    "\n",
    "# パラメータの確認\n",
    "params = model.params\n",
    "print(\"=== 主要パラメータ ===\")\n",
    "print(f\"割引因子 (beta): {params.beta}\")\n",
    "print(f\"資本分配率 (alpha): {params.alpha}\")\n",
    "print(f\"消費税率 (tau_c): {params.tau_c:.1%}\")\n",
    "print(f\"所得税率 (tau_l): {params.tau_l:.1%}\")\n",
    "print(f\"法人税率 (tau_f): {params.tau_f:.1%}\")"
   ]
  },
  {
   "cell_type": "code",
   "execution_count": 7,
   "metadata": {},
   "outputs": [
    {
     "name": "stdout",
     "output_type": "stream",
     "text": [
      "定常状態の計算に失敗しました: fsolve: there is a mismatch between the input and output shape of the 'func' argument 'steady_state_system'.Shape should be (19,) but it is (20,).\n",
      "\n",
      "簡略化したモデルで再試行します...\n"
     ]
    }
   ],
   "source": [
    "# 定常状態の計算\n",
    "try:\n",
    "    steady_state = model.compute_steady_state()\n",
    "    print(\"\\n=== 定常状態の計算成功 ===\")\n",
    "    \n",
    "    # 主要変数の定常状態値を表示\n",
    "    ss_dict = steady_state.to_dict()\n",
    "    \n",
    "    print(\"\\n主要マクロ変数:\")\n",
    "    print(f\"GDP (Y): {ss_dict['Y']:.3f}\")\n",
    "    print(f\"消費 (C): {ss_dict['C']:.3f}\")\n",
    "    print(f\"投資 (I): {ss_dict['I']:.3f}\")\n",
    "    print(f\"政府支出 (G): {ss_dict['G']:.3f}\")\n",
    "    print(f\"労働時間 (L): {ss_dict['L']:.3f}\")\n",
    "    \n",
    "    print(\"\\n税収:\")\n",
    "    print(f\"総税収 (T): {ss_dict['T']:.3f}\")\n",
    "    print(f\"消費税収 (Tc): {ss_dict['Tc']:.3f}\")\n",
    "    print(f\"所得税収 (Tl): {ss_dict['Tl']:.3f}\")\n",
    "    print(f\"法人税収 (Tf): {ss_dict['Tf']:.3f}\")\n",
    "    \n",
    "    print(\"\\n主要比率:\")\n",
    "    print(f\"消費/GDP: {ss_dict['C']/ss_dict['Y']:.1%}\")\n",
    "    print(f\"投資/GDP: {ss_dict['I']/ss_dict['Y']:.1%}\")\n",
    "    print(f\"税収/GDP: {ss_dict['T']/ss_dict['Y']:.1%}\")\n",
    "    \n",
    "except Exception as e:\n",
    "    print(f\"定常状態の計算に失敗しました: {e}\")\n",
    "    # 簡略化したモデルで再試行\n",
    "    print(\"\\n簡略化したモデルで再試行します...\")"
   ]
  },
  {
   "cell_type": "markdown",
   "metadata": {},
   "source": [
    "## 2. モデルの線形化とインパルス応答関数"
   ]
  },
  {
   "cell_type": "code",
   "execution_count": 8,
   "metadata": {},
   "outputs": [
    {
     "ename": "NameError",
     "evalue": "name 'steady_state' is not defined",
     "output_type": "error",
     "traceback": [
      "\u001b[0;31m---------------------------------------------------------------------------\u001b[0m",
      "\u001b[0;31mNameError\u001b[0m                                 Traceback (most recent call last)",
      "Cell \u001b[0;32mIn[8], line 2\u001b[0m\n\u001b[1;32m      1\u001b[0m \u001b[38;5;66;03m# モデルの線形化\u001b[39;00m\n\u001b[0;32m----> 2\u001b[0m linear_model \u001b[38;5;241m=\u001b[39m LinearizedDSGE(model, \u001b[43msteady_state\u001b[49m)\n\u001b[1;32m      3\u001b[0m linear_model\u001b[38;5;241m.\u001b[39msolve_linear_system()\n\u001b[1;32m      5\u001b[0m \u001b[38;5;28mprint\u001b[39m(\u001b[38;5;124m\"\u001b[39m\u001b[38;5;124mモデルの線形化が完了しました。\u001b[39m\u001b[38;5;124m\"\u001b[39m)\n",
      "\u001b[0;31mNameError\u001b[0m: name 'steady_state' is not defined"
     ]
    }
   ],
   "source": [
    "# モデルの線形化\n",
    "linear_model = LinearizedDSGE(model, steady_state)\n",
    "linear_model.solve_linear_system()\n",
    "\n",
    "print(\"モデルの線形化が完了しました。\")"
   ]
  },
  {
   "cell_type": "code",
   "execution_count": 9,
   "metadata": {},
   "outputs": [
    {
     "ename": "NameError",
     "evalue": "name 'linear_model' is not defined",
     "output_type": "error",
     "traceback": [
      "\u001b[0;31m---------------------------------------------------------------------------\u001b[0m",
      "\u001b[0;31mNameError\u001b[0m                                 Traceback (most recent call last)",
      "Cell \u001b[0;32mIn[9], line 4\u001b[0m\n\u001b[1;32m      1\u001b[0m \u001b[38;5;66;03m# TFPショックに対するインパルス応答\u001b[39;00m\n\u001b[1;32m      2\u001b[0m variables_to_plot \u001b[38;5;241m=\u001b[39m [\u001b[38;5;124m'\u001b[39m\u001b[38;5;124mY\u001b[39m\u001b[38;5;124m'\u001b[39m, \u001b[38;5;124m'\u001b[39m\u001b[38;5;124mC\u001b[39m\u001b[38;5;124m'\u001b[39m, \u001b[38;5;124m'\u001b[39m\u001b[38;5;124mI\u001b[39m\u001b[38;5;124m'\u001b[39m, \u001b[38;5;124m'\u001b[39m\u001b[38;5;124mL\u001b[39m\u001b[38;5;124m'\u001b[39m, \u001b[38;5;124m'\u001b[39m\u001b[38;5;124mw\u001b[39m\u001b[38;5;124m'\u001b[39m, \u001b[38;5;124m'\u001b[39m\u001b[38;5;124mpi\u001b[39m\u001b[38;5;124m'\u001b[39m]\n\u001b[0;32m----> 4\u001b[0m fig \u001b[38;5;241m=\u001b[39m \u001b[43mlinear_model\u001b[49m\u001b[38;5;241m.\u001b[39mplot_impulse_response(\n\u001b[1;32m      5\u001b[0m     shock_type\u001b[38;5;241m=\u001b[39m\u001b[38;5;124m'\u001b[39m\u001b[38;5;124mtfp\u001b[39m\u001b[38;5;124m'\u001b[39m,\n\u001b[1;32m      6\u001b[0m     variables\u001b[38;5;241m=\u001b[39mvariables_to_plot,\n\u001b[1;32m      7\u001b[0m     shock_size\u001b[38;5;241m=\u001b[39m\u001b[38;5;241m1.0\u001b[39m,\n\u001b[1;32m      8\u001b[0m     periods\u001b[38;5;241m=\u001b[39m\u001b[38;5;241m40\u001b[39m\n\u001b[1;32m      9\u001b[0m )\n\u001b[1;32m     10\u001b[0m plt\u001b[38;5;241m.\u001b[39mtight_layout()\n\u001b[1;32m     11\u001b[0m plt\u001b[38;5;241m.\u001b[39mshow()\n",
      "\u001b[0;31mNameError\u001b[0m: name 'linear_model' is not defined"
     ]
    }
   ],
   "source": [
    "# TFPショックに対するインパルス応答\n",
    "variables_to_plot = ['Y', 'C', 'I', 'L', 'w', 'pi']\n",
    "\n",
    "fig = linear_model.plot_impulse_response(\n",
    "    shock_type='tfp',\n",
    "    variables=variables_to_plot,\n",
    "    shock_size=1.0,\n",
    "    periods=40\n",
    ")\n",
    "plt.tight_layout()\n",
    "plt.show()"
   ]
  },
  {
   "cell_type": "markdown",
   "metadata": {},
   "source": [
    "## 3. 税制変更シミュレーション"
   ]
  },
  {
   "cell_type": "code",
   "execution_count": null,
   "metadata": {},
   "outputs": [],
   "source": [
    "# 税制シミュレータの初期化\n",
    "tax_simulator = TaxSimulator(model, linear_model)"
   ]
  },
  {
   "cell_type": "markdown",
   "metadata": {},
   "source": [
    "### 3.1 消費税率5%引き上げのシミュレーション"
   ]
  },
  {
   "cell_type": "code",
   "execution_count": null,
   "metadata": {},
   "outputs": [],
   "source": [
    "# 消費税率を10%から15%に引き上げ\n",
    "consumption_tax_results = tax_simulator.simulate_tax_change(\n",
    "    tax_type='consumption',\n",
    "    new_rate=0.15,  # 15%\n",
    "    transition_type='permanent',\n",
    "    periods=40\n",
    ")\n",
    "\n",
    "print(f\"消費税率変更: {consumption_tax_results['old_rate']:.1%} → {consumption_tax_results['new_rate']:.1%}\")\n",
    "print(\"\\n定常状態への影響（%変化）:\")\n",
    "for var in ['Y', 'C', 'I', 'L', 'T', 'Tc']:\n",
    "    change = consumption_tax_results['steady_state_change'][var]\n",
    "    print(f\"{var}: {change:+.2f}%\")"
   ]
  },
  {
   "cell_type": "code",
   "execution_count": null,
   "metadata": {},
   "outputs": [],
   "source": [
    "# 主要変数の推移をプロット\n",
    "variables_to_show = ['Y', 'C', 'I', 'T', 'Tc', 'B']\n",
    "fig = tax_simulator.plot_tax_simulation(\n",
    "    results=consumption_tax_results,\n",
    "    variables=variables_to_show,\n",
    "    figsize=(12, 8)\n",
    ")\n",
    "plt.show()"
   ]
  },
  {
   "cell_type": "code",
   "execution_count": null,
   "metadata": {},
   "outputs": [],
   "source": [
    "# 財政への影響を分析\n",
    "fiscal_impact = tax_simulator.compute_fiscal_impact(consumption_tax_results)\n",
    "print(\"\\n=== 財政への影響 ===\")\n",
    "print(fiscal_impact.round(3))"
   ]
  },
  {
   "cell_type": "markdown",
   "metadata": {},
   "source": [
    "### 3.2 所得税減税のシミュレーション"
   ]
  },
  {
   "cell_type": "code",
   "execution_count": null,
   "metadata": {},
   "outputs": [],
   "source": [
    "# 所得税率を20%から15%に引き下げ\n",
    "income_tax_results = tax_simulator.simulate_tax_change(\n",
    "    tax_type='income',\n",
    "    new_rate=0.15,  # 15%\n",
    "    transition_type='permanent',\n",
    "    periods=40\n",
    ")\n",
    "\n",
    "print(f\"所得税率変更: {income_tax_results['old_rate']:.1%} → {income_tax_results['new_rate']:.1%}\")\n",
    "print(\"\\n定常状態への影響（%変化）:\")\n",
    "for var in ['Y', 'C', 'I', 'L', 'T', 'Tl']:\n",
    "    change = income_tax_results['steady_state_change'][var]\n",
    "    print(f\"{var}: {change:+.2f}%\")"
   ]
  },
  {
   "cell_type": "markdown",
   "metadata": {},
   "source": [
    "### 3.3 複合的な税制改革のシミュレーション"
   ]
  },
  {
   "cell_type": "code",
   "execution_count": null,
   "metadata": {},
   "outputs": [],
   "source": [
    "# 消費税増税と所得税減税を同時に実施\n",
    "# 新しいパラメータを作成\n",
    "combined_params = ModelParameters()\n",
    "for attr in dir(model.params):\n",
    "    if not attr.startswith('_'):\n",
    "        setattr(combined_params, attr, getattr(model.params, attr))\n",
    "\n",
    "# 税率を変更\n",
    "combined_params.tau_c = 0.15  # 消費税15%\n",
    "combined_params.tau_l = 0.15  # 所得税15%\n",
    "\n",
    "# 新しいモデルで定常状態を計算\n",
    "combined_model = DSGEModel(combined_params)\n",
    "combined_ss = combined_model.compute_steady_state()\n",
    "\n",
    "print(\"複合的税制改革の影響:\")\n",
    "print(f\"消費税: 10% → 15%\")\n",
    "print(f\"所得税: 20% → 15%\")\n",
    "print(\"\\n定常状態への影響（%変化）:\")\n",
    "for var in ['Y', 'C', 'I', 'L', 'T']:\n",
    "    baseline_val = getattr(steady_state, var)\n",
    "    new_val = getattr(combined_ss, var)\n",
    "    change = (new_val - baseline_val) / baseline_val * 100\n",
    "    print(f\"{var}: {change:+.2f}%\")"
   ]
  },
  {
   "cell_type": "markdown",
   "metadata": {},
   "source": [
    "## 4. 税制シナリオの比較分析"
   ]
  },
  {
   "cell_type": "code",
   "execution_count": null,
   "metadata": {},
   "outputs": [],
   "source": [
    "# 異なる税制シナリオの比較\n",
    "scenarios = {\n",
    "    'ベースライン': {'tau_c': 0.10, 'tau_l': 0.20, 'tau_f': 0.30},\n",
    "    '消費税15%': {'tau_c': 0.15, 'tau_l': 0.20, 'tau_f': 0.30},\n",
    "    '所得税15%': {'tau_c': 0.10, 'tau_l': 0.15, 'tau_f': 0.30},\n",
    "    '法人税25%': {'tau_c': 0.10, 'tau_l': 0.20, 'tau_f': 0.25},\n",
    "    '複合改革': {'tau_c': 0.15, 'tau_l': 0.15, 'tau_f': 0.30}\n",
    "}\n",
    "\n",
    "results_summary = pd.DataFrame()\n",
    "\n",
    "for scenario_name, tax_rates in scenarios.items():\n",
    "    # パラメータを設定\n",
    "    scenario_params = ModelParameters()\n",
    "    for attr in dir(model.params):\n",
    "        if not attr.startswith('_'):\n",
    "            setattr(scenario_params, attr, getattr(model.params, attr))\n",
    "    \n",
    "    # 税率を更新\n",
    "    for tax, rate in tax_rates.items():\n",
    "        setattr(scenario_params, tax, rate)\n",
    "    \n",
    "    # モデルを作成し定常状態を計算\n",
    "    scenario_model = DSGEModel(scenario_params)\n",
    "    try:\n",
    "        scenario_ss = scenario_model.compute_steady_state()\n",
    "        \n",
    "        # 結果を記録\n",
    "        results = {\n",
    "            'GDP': scenario_ss.Y,\n",
    "            '消費': scenario_ss.C,\n",
    "            '投資': scenario_ss.I,\n",
    "            '労働': scenario_ss.L,\n",
    "            '総税収': scenario_ss.T,\n",
    "            '税収/GDP': scenario_ss.T / scenario_ss.Y,\n",
    "            '債務/GDP': scenario_ss.B / (4 * scenario_ss.Y)  # 年率換算\n",
    "        }\n",
    "        \n",
    "        results_summary[scenario_name] = pd.Series(results)\n",
    "    except:\n",
    "        print(f\"シナリオ '{scenario_name}' の計算に失敗しました\")\n",
    "\n",
    "# 結果を表示\n",
    "if not results_summary.empty:\n",
    "    print(\"\\n=== シナリオ比較 ===\")\n",
    "    print(results_summary.round(3))\n",
    "    \n",
    "    # ベースラインとの比較（%変化）\n",
    "    if 'ベースライン' in results_summary.columns:\n",
    "        print(\"\\n=== ベースラインからの変化（%） ===\")\n",
    "        baseline = results_summary['ベースライン']\n",
    "        for col in results_summary.columns:\n",
    "            if col != 'ベースライン':\n",
    "                pct_change = (results_summary[col] - baseline) / baseline * 100\n",
    "                print(f\"\\n{col}:\")\n",
    "                print(pct_change.round(2))"
   ]
  },
  {
   "cell_type": "code",
   "execution_count": null,
   "metadata": {},
   "outputs": [],
   "source": [
    "# シナリオ比較のグラフ化\n",
    "if not results_summary.empty:\n",
    "    fig, axes = plt.subplots(2, 2, figsize=(12, 10))\n",
    "    \n",
    "    # GDP比較\n",
    "    ax = axes[0, 0]\n",
    "    results_summary.loc['GDP'].plot(kind='bar', ax=ax)\n",
    "    ax.set_title('GDP水準の比較')\n",
    "    ax.set_ylabel('GDP')\n",
    "    ax.tick_params(axis='x', rotation=45)\n",
    "    \n",
    "    # 税収/GDP比率\n",
    "    ax = axes[0, 1]\n",
    "    (results_summary.loc['税収/GDP'] * 100).plot(kind='bar', ax=ax)\n",
    "    ax.set_title('税収/GDP比率の比較')\n",
    "    ax.set_ylabel('税収/GDP (%)')\n",
    "    ax.tick_params(axis='x', rotation=45)\n",
    "    \n",
    "    # 消費と投資\n",
    "    ax = axes[1, 0]\n",
    "    results_summary.loc[['消費', '投資']].T.plot(kind='bar', ax=ax)\n",
    "    ax.set_title('消費と投資の比較')\n",
    "    ax.set_ylabel('水準')\n",
    "    ax.tick_params(axis='x', rotation=45)\n",
    "    ax.legend(['消費', '投資'])\n",
    "    \n",
    "    # 労働時間\n",
    "    ax = axes[1, 1]\n",
    "    results_summary.loc['労働'].plot(kind='bar', ax=ax)\n",
    "    ax.set_title('労働時間の比較')\n",
    "    ax.set_ylabel('労働時間')\n",
    "    ax.tick_params(axis='x', rotation=45)\n",
    "    \n",
    "    plt.tight_layout()\n",
    "    plt.show()"
   ]
  },
  {
   "cell_type": "markdown",
   "metadata": {},
   "source": [
    "## 5. 結果のエクスポート"
   ]
  },
  {
   "cell_type": "code",
   "execution_count": null,
   "metadata": {},
   "outputs": [],
   "source": [
    "# 結果をCSVファイルに保存\n",
    "if not results_summary.empty:\n",
    "    results_summary.to_csv('../results/scenario_comparison.csv')\n",
    "    print(\"結果を '../results/scenario_comparison.csv' に保存しました。\")\n",
    "    \n",
    "    # 詳細レポートの作成\n",
    "    with open('../results/tax_simulation_report.txt', 'w', encoding='utf-8') as f:\n",
    "        f.write(\"日本税制シミュレーション結果レポート\\n\")\n",
    "        f.write(\"=\" * 50 + \"\\n\\n\")\n",
    "        \n",
    "        f.write(\"1. モデルパラメータ\\n\")\n",
    "        f.write(\"-\" * 30 + \"\\n\")\n",
    "        f.write(f\"割引因子 (beta): {params.beta}\\n\")\n",
    "        f.write(f\"資本分配率 (alpha): {params.alpha}\\n\")\n",
    "        f.write(f\"価格硬直性 (theta_p): {params.theta_p}\\n\")\n",
    "        f.write(f\"\\n\")\n",
    "        \n",
    "        f.write(\"2. シナリオ別結果\\n\")\n",
    "        f.write(\"-\" * 30 + \"\\n\")\n",
    "        f.write(results_summary.to_string())\n",
    "        f.write(\"\\n\\n\")\n",
    "        \n",
    "        if 'ベースライン' in results_summary.columns:\n",
    "            f.write(\"3. ベースラインからの変化（%）\\n\")\n",
    "            f.write(\"-\" * 30 + \"\\n\")\n",
    "            baseline = results_summary['ベースライン']\n",
    "            for col in results_summary.columns:\n",
    "                if col != 'ベースライン':\n",
    "                    f.write(f\"\\n{col}:\\n\")\n",
    "                    pct_change = (results_summary[col] - baseline) / baseline * 100\n",
    "                    f.write(pct_change.round(2).to_string())\n",
    "                    f.write(\"\\n\")\n",
    "    \n",
    "    print(\"詳細レポートを '../results/tax_simulation_report.txt' に保存しました。\")"
   ]
  },
  {
   "cell_type": "markdown",
   "metadata": {},
   "source": [
    "## まとめ\n",
    "\n",
    "このデモンストレーションでは、日本経済向けのDSGEモデルを使用して、以下の分析を行いました：\n",
    "\n",
    "1. **モデルの定常状態の計算**: 現行税制下での経済の均衡状態を求めました\n",
    "2. **インパルス応答分析**: 各種ショックが経済に与える動的な影響を分析しました\n",
    "3. **税制変更シミュレーション**: 消費税、所得税、法人税の変更が経済に与える影響を定量的に評価しました\n",
    "4. **シナリオ比較**: 複数の税制改革案を比較し、それぞれの経済効果を分析しました\n",
    "\n",
    "### 主な発見\n",
    "\n",
    "- 消費税の引き上げは、短期的には消費を抑制しますが、税収の安定的な増加をもたらします\n",
    "- 所得税の減税は、労働供給を刺激し、GDPの増加につながる可能性があります\n",
    "- 複合的な税制改革（消費税増税＋所得税減税）は、税収を維持しながら経済活動を活性化する可能性があります\n",
    "\n",
    "### 今後の拡張可能性\n",
    "\n",
    "1. **モデルの精緻化**: 金融摩擦、異質的家計、開放経済などの要素を追加\n",
    "2. **推定**: ベイズ推定を用いてパラメータを日本のデータから推定\n",
    "3. **政策分析**: より複雑な税制改革シナリオの分析\n",
    "4. **不確実性分析**: パラメータの不確実性を考慮した分析"
   ]
  }
 ],
 "metadata": {
  "kernelspec": {
   "display_name": "ludo",
   "language": "python",
   "name": "python3"
  },
  "language_info": {
   "codemirror_mode": {
    "name": "ipython",
    "version": 3
   },
   "file_extension": ".py",
   "mimetype": "text/x-python",
   "name": "python",
   "nbconvert_exporter": "python",
   "pygments_lexer": "ipython3",
   "version": "3.10.13"
  }
 },
 "nbformat": 4,
 "nbformat_minor": 4
}
