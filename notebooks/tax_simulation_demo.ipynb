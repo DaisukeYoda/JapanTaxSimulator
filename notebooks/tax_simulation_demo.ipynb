{
 "cells": [
  {
   "cell_type": "markdown",
   "metadata": {},
   "source": "# Japan Tax Simulator - DSGE Model Demo\n\nこのノートブックでは、日本経済向けのDSGEモデルを使用して、税制変更がマクロ経済に与える影響をシミュレーションします。\n\n## 📚 注意: Issue #30対応による変更点\n\n**2025年6月更新**: 線形化手法の精度評価により、以下の重要な変更が行われました：\n\n### 🎯 線形化手法の選択\n- **デモ・教育用途**: `use_simple_linearization=True` （安定性重視）\n- **学術研究用途**: `use_simple_linearization=False` （精度重視）\n- **違い**: 中・大規模税制改革では最大7%の差異が確認されています\n\n### 💡 このノートブックの設定\nこのデモでは`use_simple_linearization=True`を使用し、安定性と理解しやすさを重視しています。学術研究や政策分析には完全線形化をご使用ください。\n\n詳細は`docs/technical/LINEARIZATION_METHOD_GUIDE.md`をご参照ください。",
   "outputs": []
  },
  {
   "cell_type": "code",
   "execution_count": 1,
   "metadata": {},
   "outputs": [
    {
     "name": "stdout",
     "output_type": "stream",
     "text": [
      "デバッグ: 利用可能フォント数 461\n",
      "デバッグ: Hiraginoフォント: ['Hiragino Sans CNS', 'Hiragino Sans', 'Hiragino Mincho ProN']\n",
      "デバッグ: フォント 'Hiragino Sans' を発見しました\n",
      "✅ 日本語フォント使用: Hiragino Sans\n"
     ]
    },
    {
     "name": "stderr",
     "output_type": "stream",
     "text": [
      "Matplotlib is building the font cache; this may take a moment.\n"
     ]
    },
    {
     "name": "stdout",
     "output_type": "stream",
     "text": [
      "デバッグ: 利用可能フォント数 467\n",
      "デバッグ: Hiraginoフォント: ['Hiragino Sans', 'Hiragino Sans', 'Hiragino Sans']\n",
      "デバッグ: フォント 'Hiragino Sans' を発見しました\n",
      "✅ 日本語フォント使用: Hiragino Sans\n",
      "✅ 日本語フォント設定完了（plot_utils使用）\n",
      "Project root: /Users/daisukeyoda/Documents/JapanTaxSimulator\n",
      "Current working directory: /Users/daisukeyoda/Documents/JapanTaxSimulator\n",
      "Config file exists: True\n",
      "\n",
      "================================================================================\n",
      "⚠️  RESEARCH MODE NOT SET\n",
      "================================================================================\n",
      "This codebase contains functions with research integrity issues.\n",
      "Before using for academic research, please:\n",
      "1. Review ACADEMIC_RESEARCH_REMEDIATION_PLAN.md\n",
      "2. Set RESEARCH_MODE environment variable:\n",
      "   - 'development' : Allow execution with warnings\n",
      "   - 'strict'      : Block risky functions entirely\n",
      "3. Consider using research-grade alternatives\n",
      "================================================================================\n",
      "\n",
      "\n",
      "================================================================================\n",
      "⚠️  RESEARCH MODE NOT SET\n",
      "================================================================================\n",
      "This codebase contains functions with research integrity issues.\n",
      "Before using for academic research, please:\n",
      "1. Review ACADEMIC_RESEARCH_REMEDIATION_PLAN.md\n",
      "2. Set RESEARCH_MODE environment variable:\n",
      "   - 'development' : Allow execution with warnings\n",
      "   - 'strict'      : Block risky functions entirely\n",
      "3. Consider using research-grade alternatives\n",
      "================================================================================\n",
      "\n"
     ]
    },
    {
     "name": "stderr",
     "output_type": "stream",
     "text": [
      "/Users/daisukeyoda/Documents/JapanTaxSimulator/src/models/simple_dsge.py:37: ResearchWarning: 🚨 SIMPLIFIED DSGE MODEL: This model uses only 8 variables and simplified equations. Economic assumptions differ significantly from full DSGE models. Results should NOT be used for research without empirical validation.\n",
      "  warnings.warn(\n",
      "/Users/daisukeyoda/Documents/JapanTaxSimulator/src/tax_simulator.py:43: ResearchWarning: Simplified DSGE model available. This uses different economic assumptions than the full model. Results may not be comparable.\n",
      "  warnings.warn(\n"
     ]
    }
   ],
   "source": [
    "# 必要なライブラリのインポート\n",
    "import sys\n",
    "import os\n",
    "import numpy as np\n",
    "import pandas as pd\n",
    "import matplotlib.pyplot as plt\n",
    "import seaborn as sns\n",
    "\n",
    "# プロジェクトのルートディレクトリを設定\n",
    "if os.path.basename(os.getcwd()) == 'notebooks':\n",
    "    project_root = os.path.abspath('..')\n",
    "    os.chdir(project_root)\n",
    "elif 'JapanTaxSimulator' in os.getcwd():\n",
    "    while not os.path.exists('config/parameters.json') and os.getcwd() != '/':\n",
    "        if 'JapanTaxSimulator' in os.getcwd():\n",
    "            project_root = os.getcwd()\n",
    "            break\n",
    "        os.chdir('..')\n",
    "    project_root = os.getcwd()\n",
    "else:\n",
    "    project_root = os.path.abspath('..')\n",
    "    os.chdir(project_root)\n",
    "\n",
    "if project_root not in sys.path:\n",
    "    sys.path.insert(0, project_root)\n",
    "\n",
    "# 日本語フォント設定を統一されたユーティリティで実行\n",
    "from src.plot_utils import setup_plotting_style\n",
    "setup_plotting_style()\n",
    "print(\"✅ 日本語フォント設定完了（plot_utils使用）\")\n",
    "\n",
    "print(f\"Project root: {project_root}\")\n",
    "print(f\"Current working directory: {os.getcwd()}\")\n",
    "print(f\"Config file exists: {os.path.exists('config/parameters.json')}\")\n",
    "\n",
    "# モジュールの強制リロード（開発時のみ）\n",
    "import importlib\n",
    "if 'src.linearization_improved' in sys.modules:\n",
    "    importlib.reload(sys.modules['src.linearization_improved'])\n",
    "if 'src.tax_simulator' in sys.modules:\n",
    "    importlib.reload(sys.modules['src.tax_simulator'])\n",
    "\n",
    "# DSGEモデルのインポート\n",
    "from src.dsge_model import DSGEModel, ModelParameters, load_model\n",
    "from src.tax_simulator import EnhancedTaxSimulator, TaxReform"
   ]
  },
  {
   "cell_type": "markdown",
   "metadata": {},
   "source": [
    "## 1. モデルの初期化と定常状態の計算"
   ]
  },
  {
   "cell_type": "code",
   "execution_count": 2,
   "metadata": {},
   "outputs": [
    {
     "name": "stdout",
     "output_type": "stream",
     "text": [
      "=== 主要パラメータ ===\n",
      "割引因子 (beta): 0.99\n",
      "資本分配率 (alpha): 0.33\n",
      "消費税率 (tau_c): 10.0%\n",
      "所得税率 (tau_l): 20.0%\n",
      "法人税率 (tau_f): 30.0%\n"
     ]
    }
   ],
   "source": [
    "# パラメータファイルからモデルを読み込み\n",
    "config_path = 'config/parameters.json'  # パスが正しいことを確認\n",
    "if not os.path.exists(config_path):\n",
    "    print(f\"Config file not found at: {config_path}\")\n",
    "    print(f\"Current directory: {os.getcwd()}\")\n",
    "    print(f\"Files in current directory: {os.listdir('.')}\")\n",
    "    if os.path.exists('config'):\n",
    "        print(f\"Files in config directory: {os.listdir('config')}\")\n",
    "    raise FileNotFoundError(f\"Configuration file not found: {config_path}\")\n",
    "\n",
    "model = load_model(config_path)\n",
    "\n",
    "# パラメータの確認\n",
    "params = model.params\n",
    "print(\"=== 主要パラメータ ===\")\n",
    "print(f\"割引因子 (beta): {params.beta}\")\n",
    "print(f\"資本分配率 (alpha): {params.alpha}\")\n",
    "print(f\"消費税率 (tau_c): {params.tau_c:.1%}\")\n",
    "print(f\"所得税率 (tau_l): {params.tau_l:.1%}\")\n",
    "print(f\"法人税率 (tau_f): {params.tau_f:.1%}\")"
   ]
  },
  {
   "cell_type": "code",
   "execution_count": 3,
   "metadata": {},
   "outputs": [
    {
     "name": "stdout",
     "output_type": "stream",
     "text": [
      "Warning: Optimization didn't converge but residuals are acceptable (max: 3.124986e-02)\n",
      "\n",
      "=== 定常状態の計算成功 ===\n",
      "\n",
      "主要マクロ変数:\n",
      "GDP (Y): 0.363\n",
      "消費 (C): 0.266\n",
      "投資 (I): 0.019\n",
      "政府支出 (G): 0.076\n",
      "労働時間 (L): 0.280\n",
      "\n",
      "税収:\n",
      "総税収 (T): 0.263\n",
      "消費税収 (Tc): 0.027\n",
      "所得税収 (Tl): 0.193\n",
      "法人税収 (Tf): 0.018\n",
      "\n",
      "主要比率:\n",
      "消費/GDP: 73.4%\n",
      "投資/GDP: 5.3%\n",
      "税収/GDP: 72.6%\n"
     ]
    }
   ],
   "source": [
    "# 定常状態の計算\n",
    "try:\n",
    "    steady_state = model.compute_steady_state()\n",
    "    print(\"\\n=== 定常状態の計算成功 ===\")\n",
    "    \n",
    "    # 主要変数の定常状態値を表示\n",
    "    ss_dict = steady_state.to_dict()\n",
    "    \n",
    "    print(\"\\n主要マクロ変数:\")\n",
    "    print(f\"GDP (Y): {ss_dict['Y']:.3f}\")\n",
    "    print(f\"消費 (C): {ss_dict['C']:.3f}\")\n",
    "    print(f\"投資 (I): {ss_dict['I']:.3f}\")\n",
    "    print(f\"政府支出 (G): {ss_dict['G']:.3f}\")\n",
    "    print(f\"労働時間 (L): {ss_dict['L']:.3f}\")\n",
    "    \n",
    "    print(\"\\n税収:\")\n",
    "    print(f\"総税収 (T): {ss_dict.get('T_total_revenue', ss_dict.get('T', 'N/A')):.3f}\")\n",
    "    print(f\"消費税収 (Tc): {ss_dict['Tc']:.3f}\")\n",
    "    print(f\"所得税収 (Tl): {ss_dict['Tl']:.3f}\")\n",
    "    print(f\"法人税収 (Tf): {ss_dict['Tf']:.3f}\")\n",
    "    \n",
    "    print(\"\\n主要比率:\")\n",
    "    print(f\"消費/GDP: {ss_dict['C']/ss_dict['Y']:.1%}\")\n",
    "    print(f\"投資/GDP: {ss_dict['I']/ss_dict['Y']:.1%}\")\n",
    "    total_revenue = ss_dict.get('T_total_revenue', ss_dict.get('T', 0))\n",
    "    if total_revenue != 'N/A':\n",
    "        print(f\"税収/GDP: {total_revenue/ss_dict['Y']:.1%}\")\n",
    "    \n",
    "except Exception as e:\n",
    "    print(f\"定常状態の計算に失敗しました: {e}\")\n",
    "    print(\"\\n簡略化したモデルで再試行します...\")"
   ]
  },
  {
   "cell_type": "markdown",
   "metadata": {},
   "source": [
    "## 2. モデルの線形化とインパルス応答関数"
   ]
  },
  {
   "cell_type": "code",
   "execution_count": 4,
   "metadata": {},
   "outputs": [
    {
     "name": "stdout",
     "output_type": "stream",
     "text": [
      "モデルの線形化が完了しました。\n"
     ]
    }
   ],
   "source": [
    "# モデルの線形化（ImprovedLinearizedDSGEを使用）\n",
    "from src.linearization_improved import ImprovedLinearizedDSGE\n",
    "\n",
    "try:\n",
    "    linear_model = ImprovedLinearizedDSGE(model, steady_state)\n",
    "    print(\"モデルの線形化が完了しました。\")\n",
    "except Exception as e:\n",
    "    print(f\"線形化に失敗しました: {e}\")\n",
    "    print(\"代替的な方法を試みます...\")\n",
    "    linear_model = None"
   ]
  },
  {
   "cell_type": "code",
   "execution_count": 5,
   "metadata": {},
   "outputs": [
    {
     "name": "stdout",
     "output_type": "stream",
     "text": [
      "Warning: No steady state value for R_star_net_real, setting to 1.0\n",
      "Warning: No steady state value for R_star_net_real, setting to 1.0\n",
      "Adjusting system to be square: 29 equations -> 27 equations\n",
      "Forward-looking equations (6): [3, 5, 6, 8, 14, 21]\n",
      "System is overdetermined - removing equations while preserving structure...\n",
      "Identified critical equations: [9, 10]\n",
      "Keeping 27 equations: [ 2  3  4  5  6  7  8  9 10 11 12 13 14 15 16 17 19 20 21 22 23 24 25 26\n",
      " 27 28 29]\n",
      "Square system achieved: (27, 27) with rank 1\n",
      "A matrix is still rank deficient (1/27)\n",
      "Applying regularization with parameter: 1.81e-10\n",
      "Regularization did not help - may need model restructuring\n",
      "Matrix A shape: (27, 27)\n",
      "Matrix B shape: (27, 27)\n",
      "A matrix rank: 1\n",
      "B matrix rank: 3\n",
      "Number of explosive eigenvalues: 11\n",
      "Number of forward-looking variables: 5\n",
      "Warning: Blanchard-Kahn conditions not satisfied.\n",
      "This may indicate model indeterminacy or non-existence of solution.\n",
      "Warning: Could not solve for policy function, using pseudo-inverse\n",
      "Warning: TFP shock has minimal effect on A_tfp (0.00000000)\n",
      "This may indicate a remaining system specification issue.\n"
     ]
    },
    {
     "name": "stderr",
     "output_type": "stream",
     "text": [
      "/Users/daisukeyoda/Documents/JapanTaxSimulator/src/linearization_improved.py:512: RuntimeWarning: divide by zero encountered in divide\n",
      "  eigenvalues = alpha / beta\n",
      "/Users/daisukeyoda/Documents/JapanTaxSimulator/src/linearization_improved.py:512: RuntimeWarning: invalid value encountered in divide\n",
      "  eigenvalues = alpha / beta\n"
     ]
    },
    {
     "data": {
      "image/png": "[encoded data removed]",
      "text/plain": [
       "<Figure size 1200x800 with 6 Axes>"
      ]
     },
     "metadata": {},
     "output_type": "display_data"
    }
   ],
   "source": [
    "# TFPショックに対するインパルス応答\n",
    "if linear_model is not None:\n",
    "    try:\n",
    "        variables_to_plot = ['Y', 'C', 'I', 'L', 'w', 'pi_gross']\n",
    "        \n",
    "        irf_results = linear_model.compute_impulse_response(\n",
    "            shock_type='tfp',  # TFPショック\n",
    "            periods=40,\n",
    "            shock_size=0.01  # 1%ショック\n",
    "        )\n",
    "        \n",
    "        # プロット\n",
    "        fig, axes = plt.subplots(2, 3, figsize=(12, 8))\n",
    "        axes = axes.flatten()\n",
    "        \n",
    "        for i, var in enumerate(variables_to_plot):\n",
    "            if var in irf_results.columns:\n",
    "                ax = axes[i]\n",
    "                ax.plot(irf_results.index, irf_results[var] * 100, 'b-', linewidth=2)\n",
    "                ax.axhline(y=0, color='k', linestyle='--', alpha=0.5)\n",
    "                ax.set_xlabel('Quarters')\n",
    "                ax.set_ylabel('% deviation from steady state')\n",
    "                ax.set_title(f'{var}')\n",
    "                ax.grid(True, alpha=0.3)\n",
    "        \n",
    "        plt.suptitle('Impulse Response to TFP Shock')\n",
    "        plt.tight_layout()\n",
    "        plt.show()\n",
    "    except Exception as e:\n",
    "        print(f\"インパルス応答の計算に失敗しました: {e}\")\n",
    "        print(\"線形化モデルなしでシミュレーションを続行します...\")\n",
    "else:\n",
    "    print(\"線形化モデルが利用できません。動的分析はスキップします。\")"
   ]
  },
  {
   "cell_type": "markdown",
   "metadata": {},
   "source": "# 税制シミュレータの初期化（Issue #30対応）\n# デモンストレーション用途のため、明示的に簡略化線形化を指定\ntry:\n    # デモ・教育用途：安定性とわかりやすさを重視\n    tax_simulator = EnhancedTaxSimulator(\n        model, \n        use_simple_model=False,  # 複雑なモデルを使用\n        use_simple_linearization=True  # ただし安定な簡略化線形化を使用\n    )\n    print(\"✅ 税制シミュレータの初期化に成功しました。\")\n    print(\"📚 デモ用途のため簡略化線形化を使用しています。\")\n    print(\"🎓 学術研究用途では use_simple_linearization=False を推奨します。\")\n    \n    # デバッグ情報を表示\n    if hasattr(tax_simulator, 'linear_model') and tax_simulator.linear_model is not None:\n        print(f\"\\nLinear model type: {type(tax_simulator.linear_model)}\")\n        if hasattr(tax_simulator.linear_model, 'n_s'):\n            print(f\"n_s: {tax_simulator.linear_model.n_s}\")\n        if hasattr(tax_simulator.linear_model, 'n_state'):\n            print(f\"n_state: {tax_simulator.linear_model.n_state}\")\n        if hasattr(tax_simulator.linear_model, 'n_control'):\n            print(f\"n_control: {tax_simulator.linear_model.n_control}\")\n    else:\n        print(\"\\n簡略化DSGEモデルを使用中（linear_modelは使用されません）\")\n        \nexcept Exception as e:\n    print(f\"❌ 税制シミュレータの初期化に失敗: {e}\")\n    import traceback\n    traceback.print_exc()\n    \n    # フォールバック: 基本機能のみ使用\n    print(\"\\n基本モードで続行します...\")\n    tax_simulator = None",
   "outputs": []
  },
  {
   "cell_type": "code",
   "execution_count": 6,
   "metadata": {},
   "outputs": [
    {
     "name": "stdout",
     "output_type": "stream",
     "text": [
      "簡略化DSGEモデルを使用しています...\n",
      "=== 簡略化DSGE定常状態計算 ===\n",
      "初期推定: Y=1.000, C=0.550, I=0.200, L=0.330\n",
      "✅ 定常状態計算成功\n",
      "  Y=2.089, C/Y=62.4%, I/Y=17.6%, G/Y=20.0%\n",
      "  L=0.798, w=1.753, r=0.047\n",
      "  総需要バランス誤差: 1.11e-16\n",
      "税制シミュレータの初期化に成功しました。\n",
      "税制シミュレータの初期化に失敗: 'EnhancedTaxSimulator' object has no attribute 'linear_model'\n",
      "\n",
      "線形化なしの基本モードで続行します...\n"
     ]
    },
    {
     "name": "stderr",
     "output_type": "stream",
     "text": [
      "/var/folders/j7/dt49wbfj04b3l95m4w37j71h0000gn/T/ipykernel_31577/2747429861.py:3: ResearchWarning: RESEARCH WARNING - __init__: Automatic fallback from complex to simplified DSGE model. Results may change unexpectedly between model types without user awareness. For research: Use specific model classes and validate convergence explicitly.\n",
      "  tax_simulator = EnhancedTaxSimulator(model)\n",
      "Traceback (most recent call last):\n",
      "  File \"/var/folders/j7/dt49wbfj04b3l95m4w37j71h0000gn/T/ipykernel_31577/2747429861.py\", line 7, in <module>\n",
      "    print(f\"Linear model type: {type(tax_simulator.linear_model)}\")\n",
      "                                     ^^^^^^^^^^^^^^^^^^^^^^^^^^\n",
      "AttributeError: 'EnhancedTaxSimulator' object has no attribute 'linear_model'\n"
     ]
    }
   ],
   "source": [
    "# 税制シミュレータの初期化\n",
    "try:\n",
    "    tax_simulator = EnhancedTaxSimulator(model)\n",
    "    print(\"税制シミュレータの初期化に成功しました。\")\n",
    "    \n",
    "    # デバッグ情報を表示\n",
    "    print(f\"Linear model type: {type(tax_simulator.linear_model)}\")\n",
    "    if hasattr(tax_simulator.linear_model, 'n_s'):\n",
    "        print(f\"n_s: {tax_simulator.linear_model.n_s}\")\n",
    "    if hasattr(tax_simulator.linear_model, 'n_state'):\n",
    "        print(f\"n_state: {tax_simulator.linear_model.n_state}\")\n",
    "    if hasattr(tax_simulator.linear_model, 'n_control'):\n",
    "        print(f\"n_control: {tax_simulator.linear_model.n_control}\")\n",
    "    if hasattr(tax_simulator.linear_model, 'n_exo'):\n",
    "        print(f\"n_exo: {tax_simulator.linear_model.n_exo}\")\n",
    "        \n",
    "except Exception as e:\n",
    "    print(f\"税制シミュレータの初期化に失敗: {e}\")\n",
    "    import traceback\n",
    "    traceback.print_exc()\n",
    "    \n",
    "    # フォールバック: 線形化なしで基本機能のみ使用\n",
    "    print(\"\\n線形化なしの基本モードで続行します...\")\n",
    "    tax_simulator = None"
   ]
  },
  {
   "cell_type": "markdown",
   "metadata": {},
   "source": [
    "### 3.1 消費税率5%引き上げのシミュレーション"
   ]
  },
  {
   "cell_type": "code",
   "execution_count": 7,
   "metadata": {},
   "outputs": [
    {
     "name": "stdout",
     "output_type": "stream",
     "text": [
      "❌ 税制シミュレータが利用できません。線形化の問題を解決してください。\n"
     ]
    }
   ],
   "source": [
    "# 消費税率を10%から15%に引き上げ\n",
    "if tax_simulator is not None:\n",
    "    try:\n",
    "        consumption_tax_reform = TaxReform(\n",
    "            name=\"消費税5%引き上げ\",\n",
    "            tau_c=0.15,  # 15%\n",
    "            implementation='permanent'\n",
    "        )\n",
    "\n",
    "        # シミュレーション実行\n",
    "        print(\"シミュレーション実行中...\")\n",
    "        consumption_tax_results = tax_simulator.simulate_reform(\n",
    "            reform=consumption_tax_reform,\n",
    "            periods=40\n",
    "        )\n",
    "\n",
    "        print(f\"消費税率変更: {model.params.tau_c:.1%} → {consumption_tax_reform.tau_c:.1%}\")\n",
    "        print(\"\\n定常状態への影響（%変化）:\")\n",
    "\n",
    "        # 主要変数の変化を表示\n",
    "        baseline_ss = model.steady_state.to_dict()\n",
    "        new_ss = consumption_tax_results.steady_state_reform  # 修正: new_steady_state → steady_state_reform\n",
    "\n",
    "        for var in ['Y', 'C', 'I', 'L']:\n",
    "            if hasattr(new_ss, var):\n",
    "                old_val = baseline_ss[var]\n",
    "                new_val = getattr(new_ss, var)\n",
    "                change = (new_val - old_val) / old_val * 100\n",
    "                print(f\"{var}: {change:+.2f}%\")\n",
    "        \n",
    "        print(\"✅ 消費税シミュレーション成功\")\n",
    "        \n",
    "    except Exception as e:\n",
    "        print(f\"❌ 消費税シミュレーションに失敗: {e}\")\n",
    "        import traceback\n",
    "        traceback.print_exc()\n",
    "        consumption_tax_results = None\n",
    "else:\n",
    "    print(\"❌ 税制シミュレータが利用できません。線形化の問題を解決してください。\")\n",
    "    consumption_tax_results = None"
   ]
  },
  {
   "cell_type": "code",
   "execution_count": 8,
   "metadata": {},
   "outputs": [
    {
     "name": "stdout",
     "output_type": "stream",
     "text": [
      "⚠️ シミュレーション結果がないため、プロットをスキップします。\n"
     ]
    }
   ],
   "source": [
    "# 主要変数の推移をプロット\n",
    "if consumption_tax_results is not None:\n",
    "    try:\n",
    "        variables_to_show = ['Y', 'C', 'I', 'L']\n",
    "        \n",
    "        # 結果を可視化 - tax_simulatorのplot_transition_dynamicsメソッドを使用\n",
    "        fig = tax_simulator.plot_transition_dynamics(\n",
    "            consumption_tax_results, \n",
    "            variables=variables_to_show,\n",
    "            figsize=(12, 8)\n",
    "        )\n",
    "        plt.show()\n",
    "        print(\"✅ プロット表示成功\")\n",
    "        \n",
    "    except Exception as e:\n",
    "        print(f\"❌ プロット表示に失敗: {e}\")\n",
    "        print(\"エラー詳細:\")\n",
    "        import traceback\n",
    "        traceback.print_exc()\n",
    "else:\n",
    "    print(\"⚠️ シミュレーション結果がないため、プロットをスキップします。\")"
   ]
  },
  {
   "cell_type": "code",
   "execution_count": 9,
   "metadata": {},
   "outputs": [
    {
     "name": "stdout",
     "output_type": "stream",
     "text": [
      "⚠️ シミュレーション結果がないため、財政影響分析をスキップします。\n"
     ]
    }
   ],
   "source": [
    "# 財政への影響を分析\n",
    "if consumption_tax_results is not None:\n",
    "    try:\n",
    "        print(\"\\n=== 財政への影響 ===\")\n",
    "        # SimulationResultsオブジェクトから財政影響データを取得\n",
    "        fiscal_impact = consumption_tax_results.fiscal_impact\n",
    "        \n",
    "        # 主要な財政指標を表示\n",
    "        print(\"主要な財政指標:\")\n",
    "        print(f\"・福利変化: {consumption_tax_results.welfare_change:.2f}%\")\n",
    "        print(f\"・移行期間: {consumption_tax_results.transition_periods}四半期\")\n",
    "        \n",
    "        # 財政影響の詳細表示（一部のみ）\n",
    "        if not fiscal_impact.empty:\n",
    "            print(\"\\n財政変数への影響（短期・1年平均）:\")\n",
    "            short_term_cols = [col for col in fiscal_impact.columns if 'Short-run' in str(col)]\n",
    "            if short_term_cols:\n",
    "                short_term_data = fiscal_impact[short_term_cols[0]]\n",
    "                for var in ['Y', 'T/Y ratio']:\n",
    "                    if var in short_term_data.index:\n",
    "                        data = short_term_data[var]\n",
    "                        if isinstance(data, dict) and '% Change' in data:\n",
    "                            print(f\"  {var}: {data['% Change']:.2f}%\")\n",
    "        \n",
    "        print(\"✅ 財政影響分析成功\")\n",
    "        \n",
    "    except Exception as e:\n",
    "        print(f\"❌ 財政影響分析に失敗: {e}\")\n",
    "        print(\"エラー詳細:\")\n",
    "        import traceback\n",
    "        traceback.print_exc()\n",
    "else:\n",
    "    print(\"⚠️ シミュレーション結果がないため、財政影響分析をスキップします。\")"
   ]
  },
  {
   "cell_type": "markdown",
   "metadata": {},
   "source": [
    "### 3.2 所得税減税のシミュレーション"
   ]
  },
  {
   "cell_type": "code",
   "execution_count": 10,
   "metadata": {},
   "outputs": [
    {
     "name": "stdout",
     "output_type": "stream",
     "text": [
      "❌ 税制シミュレータが利用できません。\n"
     ]
    }
   ],
   "source": [
    "# 所得税率を20%から15%に引き下げ\n",
    "if tax_simulator is not None:\n",
    "    try:\n",
    "        income_tax_reform = TaxReform(\n",
    "            name=\"所得税5%引き下げ\",\n",
    "            tau_l=0.15,  # 15%\n",
    "            implementation='permanent'\n",
    "        )\n",
    "\n",
    "        # シミュレーション実行\n",
    "        print(\"シミュレーション実行中...\")\n",
    "        income_tax_results = tax_simulator.simulate_reform(\n",
    "            reform=income_tax_reform,\n",
    "            periods=40\n",
    "        )\n",
    "\n",
    "        print(f\"所得税率変更: {model.params.tau_l:.1%} → {income_tax_reform.tau_l:.1%}\")\n",
    "        print(\"\\n定常状態への影響（%変化）:\")\n",
    "\n",
    "        # 主要変数の変化を表示\n",
    "        baseline_ss = model.steady_state.to_dict()\n",
    "        new_ss = income_tax_results.steady_state_reform  # 修正: new_steady_state → steady_state_reform\n",
    "\n",
    "        for var in ['Y', 'C', 'I', 'L']:\n",
    "            if hasattr(new_ss, var):\n",
    "                old_val = baseline_ss[var]\n",
    "                new_val = getattr(new_ss, var)\n",
    "                change = (new_val - old_val) / old_val * 100\n",
    "                print(f\"{var}: {change:+.2f}%\")\n",
    "        \n",
    "        print(\"✅ 所得税シミュレーション成功\")\n",
    "        \n",
    "    except Exception as e:\n",
    "        print(f\"❌ 所得税シミュレーションに失敗: {e}\")\n",
    "        import traceback\n",
    "        traceback.print_exc()\n",
    "        income_tax_results = None\n",
    "else:\n",
    "    print(\"❌ 税制シミュレータが利用できません。\")\n",
    "    income_tax_results = None"
   ]
  },
  {
   "cell_type": "markdown",
   "metadata": {},
   "source": [
    "### 3.3 複合的な税制改革のシミュレーション"
   ]
  },
  {
   "cell_type": "code",
   "execution_count": 11,
   "metadata": {},
   "outputs": [
    {
     "name": "stdout",
     "output_type": "stream",
     "text": [
      "❌ 税制シミュレータが利用できません。\n"
     ]
    }
   ],
   "source": [
    "# 消費税増税と所得税減税を同時に実施\n",
    "if tax_simulator is not None:\n",
    "    try:\n",
    "        combined_reform = TaxReform(\n",
    "            name=\"税制中立改革\",\n",
    "            tau_c=0.15,  # 消費税15%\n",
    "            tau_l=0.15,  # 所得税15%\n",
    "            implementation='permanent'\n",
    "        )\n",
    "\n",
    "        # シミュレーション実行\n",
    "        print(\"シミュレーション実行中...\")\n",
    "        combined_results = tax_simulator.simulate_reform(\n",
    "            reform=combined_reform,\n",
    "            periods=40\n",
    "        )\n",
    "\n",
    "        print(\"複合的税制改革の影響:\")\n",
    "        print(f\"消費税: {model.params.tau_c:.0%} → {combined_reform.tau_c:.0%}\")\n",
    "        print(f\"所得税: {model.params.tau_l:.0%} → {combined_reform.tau_l:.0%}\")\n",
    "        print(\"\\n定常状態への影響（%変化）:\")\n",
    "\n",
    "        # 主要変数の変化を表示\n",
    "        baseline_ss = model.steady_state.to_dict()\n",
    "        new_ss = combined_results.steady_state_reform  # 修正: new_steady_state → steady_state_reform\n",
    "\n",
    "        for var in ['Y', 'C', 'I', 'L']:\n",
    "            if hasattr(new_ss, var):\n",
    "                old_val = baseline_ss[var]\n",
    "                new_val = getattr(new_ss, var)\n",
    "                change = (new_val - old_val) / old_val * 100\n",
    "                print(f\"{var}: {change:+.2f}%\")\n",
    "        \n",
    "        print(\"✅ 複合税制改革シミュレーション成功\")\n",
    "        \n",
    "    except Exception as e:\n",
    "        print(f\"❌ 複合税制改革シミュレーションに失敗: {e}\")\n",
    "        import traceback\n",
    "        traceback.print_exc()\n",
    "        combined_results = None\n",
    "else:\n",
    "    print(\"❌ 税制シミュレータが利用できません。\")\n",
    "    combined_results = None"
   ]
  },
  {
   "cell_type": "markdown",
   "metadata": {},
   "source": "# 異なる税制シナリオの比較（定常状態のみ）\nprint(\"=== 定常状態シナリオ比較を実行中 ===\")\n\nscenarios = {\n    'ベースライン': {'tau_c': 0.10, 'tau_l': 0.20, 'tau_f': 0.30},\n    '消費税15%': {'tau_c': 0.15, 'tau_l': 0.20, 'tau_f': 0.30},\n    '所得税15%': {'tau_c': 0.10, 'tau_l': 0.15, 'tau_f': 0.30},\n    '法人税25%': {'tau_c': 0.10, 'tau_l': 0.20, 'tau_f': 0.25},\n    '複合改革': {'tau_c': 0.15, 'tau_l': 0.15, 'tau_f': 0.30}\n}\n\nresults_summary = pd.DataFrame()\nsuccessful_scenarios = 0\n\nfor scenario_name, tax_rates in scenarios.items():\n    try:\n        # パラメータを設定\n        scenario_params = ModelParameters()\n        for attr in dir(model.params):\n            if not attr.startswith('_'):\n                setattr(scenario_params, attr, getattr(model.params, attr))\n        \n        # 税率を更新\n        for tax, rate in tax_rates.items():\n            setattr(scenario_params, tax, rate)\n        \n        # モデルを作成し定常状態を計算\n        scenario_model = DSGEModel(scenario_params)\n        scenario_ss = scenario_model.compute_steady_state()\n        \n        # 結果を記録（属性の存在確認を追加）\n        results = {\n            'GDP': scenario_ss.Y,\n            '消費': scenario_ss.C,\n            '投資': scenario_ss.I,\n            '労働': scenario_ss.L,\n        }\n        \n        # 税収データの安全な取得\n        if hasattr(scenario_ss, 'T_total_revenue'):\n            results['総税収'] = scenario_ss.T_total_revenue\n            results['税収/GDP'] = scenario_ss.T_total_revenue / scenario_ss.Y\n        elif hasattr(scenario_ss, 'T'):\n            results['総税収'] = scenario_ss.T\n            results['税収/GDP'] = scenario_ss.T / scenario_ss.Y\n        else:\n            results['総税収'] = 'N/A'\n            results['税収/GDP'] = 'N/A'\n        \n        # 債務データの安全な取得\n        if hasattr(scenario_ss, 'B'):\n            results['債務/GDP'] = scenario_ss.B / (4 * scenario_ss.Y)  # 年率換算\n        elif hasattr(scenario_ss, 'B_real'):\n            results['債務/GDP'] = scenario_ss.B_real / (4 * scenario_ss.Y)\n        else:\n            results['債務/GDP'] = 'N/A'  # 債務データがない場合\n        \n        results_summary[scenario_name] = pd.Series(results)\n        successful_scenarios += 1\n        print(f\"✅ {scenario_name}: 成功\")\n        \n    except Exception as e:\n        print(f\"❌ {scenario_name}: 失敗 - {e}\")\n\nprint(f\"\\n計算結果: {successful_scenarios}/{len(scenarios)} シナリオ成功\")\n\n# 結果を表示\nif not results_summary.empty:\n    print(\"\\n=== シナリオ比較 ===\")\n    print(results_summary.round(3))\n    \n    # ベースラインとの比較（%変化）\n    if 'ベースライン' in results_summary.columns:\n        print(\"\\n=== ベースラインからの変化（%） ===\")\n        baseline = results_summary['ベースライン']\n        for col in results_summary.columns:\n            if col != 'ベースライン':\n                pct_change = ((results_summary[col] - baseline) / baseline * 100).dropna()\n                if not pct_change.empty:\n                    print(f\"\\n{col}:\")\n                    print(pct_change.round(2))\nelse:\n    print(\"⚠️ 比較可能なシナリオがありません。\")",
   "outputs": []
  },
  {
   "cell_type": "code",
   "execution_count": 12,
   "metadata": {},
   "outputs": [
    {
     "name": "stdout",
     "output_type": "stream",
     "text": [
      "=== 定常状態シナリオ比較を実行中 ===\n",
      "Warning: Optimization didn't converge but residuals are acceptable (max: 3.124986e-02)\n",
      "❌ ベースライン: 失敗 - 'SteadyState' object has no attribute 'B'\n",
      "Warning: Optimization didn't converge but residuals are acceptable (max: 2.343202e-02)\n",
      "❌ 消費税15%: 失敗 - 'SteadyState' object has no attribute 'B'\n",
      "Warning: Optimization didn't converge but residuals are acceptable (max: 3.207617e-02)\n",
      "❌ 所得税15%: 失敗 - 'SteadyState' object has no attribute 'B'\n",
      "Warning: Optimization didn't converge but residuals are acceptable (max: 4.766826e-02)\n",
      "❌ 法人税25%: 失敗 - 'SteadyState' object has no attribute 'B'\n",
      "Warning: Optimization didn't converge but residuals are acceptable (max: 4.105253e-02)\n",
      "❌ 複合改革: 失敗 - 'SteadyState' object has no attribute 'B'\n",
      "\n",
      "計算結果: 0/5 シナリオ成功\n",
      "⚠️ 比較可能なシナリオがありません。\n"
     ]
    }
   ],
   "source": [
    "# 異なる税制シナリオの比較（定常状態のみ）\n",
    "print(\"=== 定常状態シナリオ比較を実行中 ===\")\n",
    "\n",
    "scenarios = {\n",
    "    'ベースライン': {'tau_c': 0.10, 'tau_l': 0.20, 'tau_f': 0.30},\n",
    "    '消費税15%': {'tau_c': 0.15, 'tau_l': 0.20, 'tau_f': 0.30},\n",
    "    '所得税15%': {'tau_c': 0.10, 'tau_l': 0.15, 'tau_f': 0.30},\n",
    "    '法人税25%': {'tau_c': 0.10, 'tau_l': 0.20, 'tau_f': 0.25},\n",
    "    '複合改革': {'tau_c': 0.15, 'tau_l': 0.15, 'tau_f': 0.30}\n",
    "}\n",
    "\n",
    "results_summary = pd.DataFrame()\n",
    "successful_scenarios = 0\n",
    "\n",
    "for scenario_name, tax_rates in scenarios.items():\n",
    "    try:\n",
    "        # パラメータを設定\n",
    "        scenario_params = ModelParameters()\n",
    "        for attr in dir(model.params):\n",
    "            if not attr.startswith('_'):\n",
    "                setattr(scenario_params, attr, getattr(model.params, attr))\n",
    "        \n",
    "        # 税率を更新\n",
    "        for tax, rate in tax_rates.items():\n",
    "            setattr(scenario_params, tax, rate)\n",
    "        \n",
    "        # モデルを作成し定常状態を計算\n",
    "        scenario_model = DSGEModel(scenario_params)\n",
    "        scenario_ss = scenario_model.compute_steady_state()\n",
    "        \n",
    "        # 結果を記録\n",
    "        results = {\n",
    "            'GDP': scenario_ss.Y,\n",
    "            '消費': scenario_ss.C,\n",
    "            '投資': scenario_ss.I,\n",
    "            '労働': scenario_ss.L,\n",
    "            '総税収': scenario_ss.T_total_revenue,\n",
    "            '税収/GDP': scenario_ss.T_total_revenue / scenario_ss.Y,\n",
    "            '債務/GDP': scenario_ss.B / (4 * scenario_ss.Y)  # 年率換算\n",
    "        }\n",
    "        \n",
    "        results_summary[scenario_name] = pd.Series(results)\n",
    "        successful_scenarios += 1\n",
    "        print(f\"✅ {scenario_name}: 成功\")\n",
    "        \n",
    "    except Exception as e:\n",
    "        print(f\"❌ {scenario_name}: 失敗 - {e}\")\n",
    "\n",
    "print(f\"\\n計算結果: {successful_scenarios}/{len(scenarios)} シナリオ成功\")\n",
    "\n",
    "# 結果を表示\n",
    "if not results_summary.empty:\n",
    "    print(\"\\n=== シナリオ比較 ===\")\n",
    "    print(results_summary.round(3))\n",
    "    \n",
    "    # ベースラインとの比較（%変化）\n",
    "    if 'ベースライン' in results_summary.columns:\n",
    "        print(\"\\n=== ベースラインからの変化（%） ===\")\n",
    "        baseline = results_summary['ベースライン']\n",
    "        for col in results_summary.columns:\n",
    "            if col != 'ベースライン':\n",
    "                pct_change = (results_summary[col] - baseline) / baseline * 100\n",
    "                print(f\"\\n{col}:\")\n",
    "                print(pct_change.round(2))\n",
    "else:\n",
    "    print(\"⚠️ 比較可能なシナリオがありません。\")"
   ]
  },
  {
   "cell_type": "code",
   "execution_count": 13,
   "metadata": {},
   "outputs": [],
   "source": [
    "# シナリオ比較のグラフ化\n",
    "if not results_summary.empty:\n",
    "    fig, axes = plt.subplots(2, 2, figsize=(12, 10))\n",
    "    \n",
    "    # GDP比較\n",
    "    ax = axes[0, 0]\n",
    "    results_summary.loc['GDP'].plot(kind='bar', ax=ax)\n",
    "    ax.set_title('GDP水準の比較')\n",
    "    ax.set_ylabel('GDP')\n",
    "    ax.tick_params(axis='x', rotation=45)\n",
    "    \n",
    "    # 税収/GDP比率\n",
    "    ax = axes[0, 1]\n",
    "    (results_summary.loc['税収/GDP'] * 100).plot(kind='bar', ax=ax)\n",
    "    ax.set_title('税収/GDP比率の比較')\n",
    "    ax.set_ylabel('税収/GDP (%)')\n",
    "    ax.tick_params(axis='x', rotation=45)\n",
    "    \n",
    "    # 消費と投資\n",
    "    ax = axes[1, 0]\n",
    "    results_summary.loc[['消費', '投資']].T.plot(kind='bar', ax=ax)\n",
    "    ax.set_title('消費と投資の比較')\n",
    "    ax.set_ylabel('水準')\n",
    "    ax.tick_params(axis='x', rotation=45)\n",
    "    ax.legend(['消費', '投資'])\n",
    "    \n",
    "    # 労働時間\n",
    "    ax = axes[1, 1]\n",
    "    results_summary.loc['労働'].plot(kind='bar', ax=ax)\n",
    "    ax.set_title('労働時間の比較')\n",
    "    ax.set_ylabel('労働時間')\n",
    "    ax.tick_params(axis='x', rotation=45)\n",
    "    \n",
    "    plt.tight_layout()\n",
    "    plt.show()"
   ]
  },
  {
   "cell_type": "markdown",
   "metadata": {},
   "source": [
    "## 5. 結果のエクスポート"
   ]
  },
  {
   "cell_type": "code",
   "execution_count": 14,
   "metadata": {},
   "outputs": [],
   "source": [
    "# 結果をCSVファイルに保存\n",
    "if not results_summary.empty:\n",
    "    results_summary.to_csv('results/scenario_comparison.csv')  # パス修正\n",
    "    print(\"結果を 'results/scenario_comparison.csv' に保存しました。\")\n",
    "    \n",
    "    # 詳細レポートの作成\n",
    "    with open('results/tax_simulation_report.txt', 'w', encoding='utf-8') as f:  # パス修正\n",
    "        f.write(\"日本税制シミュレーション結果レポート\\n\")\n",
    "        f.write(\"=\" * 50 + \"\\n\\n\")\n",
    "        \n",
    "        f.write(\"1. モデルパラメータ\\n\")\n",
    "        f.write(\"-\" * 30 + \"\\n\")\n",
    "        f.write(f\"割引因子 (beta): {params.beta}\\n\")\n",
    "        f.write(f\"資本分配率 (alpha): {params.alpha}\\n\")\n",
    "        f.write(f\"価格硬直性 (theta_p): {params.theta_p}\\n\")\n",
    "        f.write(f\"\\n\")\n",
    "        \n",
    "        f.write(\"2. シナリオ別結果\\n\")\n",
    "        f.write(\"-\" * 30 + \"\\n\")\n",
    "        f.write(results_summary.to_string())\n",
    "        f.write(\"\\n\\n\")\n",
    "        \n",
    "        if 'ベースライン' in results_summary.columns:\n",
    "            f.write(\"3. ベースラインからの変化（%）\\n\")\n",
    "            f.write(\"-\" * 30 + \"\\n\")\n",
    "            baseline = results_summary['ベースライン']\n",
    "            for col in results_summary.columns:\n",
    "                if col != 'ベースライン':\n",
    "                    f.write(f\"\\n{col}:\\n\")\n",
    "                    pct_change = (results_summary[col] - baseline) / baseline * 100\n",
    "                    f.write(pct_change.round(2).to_string())\n",
    "                    f.write(\"\\n\")\n",
    "    \n",
    "    print(\"詳細レポートを 'results/tax_simulation_report.txt' に保存しました。\")"
   ]
  },
  {
   "cell_type": "markdown",
   "metadata": {},
   "source": [
    "## まとめ\n",
    "\n",
    "このデモンストレーションでは、日本経済向けのDSGEモデルを使用して、以下の分析を行いました：\n",
    "\n",
    "1. **モデルの定常状態の計算**: 現行税制下での経済の均衡状態を求めました\n",
    "2. **インパルス応答分析**: 各種ショックが経済に与える動的な影響を分析しました\n",
    "3. **税制変更シミュレーション**: 消費税、所得税、法人税の変更が経済に与える影響を定量的に評価しました\n",
    "4. **シナリオ比較**: 複数の税制改革案を比較し、それぞれの経済効果を分析しました\n",
    "\n",
    "### 主な発見\n",
    "\n",
    "- 消費税の引き上げは、短期的には消費を抑制しますが、税収の安定的な増加をもたらします\n",
    "- 所得税の減税は、労働供給を刺激し、GDPの増加につながる可能性があります\n",
    "- 複合的な税制改革（消費税増税＋所得税減税）は、税収を維持しながら経済活動を活性化する可能性があります\n",
    "\n",
    "### 今後の拡張可能性\n",
    "\n",
    "1. **モデルの精緻化**: 金融摩擦、異質的家計、開放経済などの要素を追加\n",
    "2. **推定**: ベイズ推定を用いてパラメータを日本のデータから推定\n",
    "3. **政策分析**: より複雑な税制改革シナリオの分析\n",
    "4. **不確実性分析**: パラメータの不確実性を考慮した分析"
   ]
  }
 ],
 "metadata": {
  "kernelspec": {
   "display_name": ".venv",
   "language": "python",
   "name": "python3"
  },
  "language_info": {
   "codemirror_mode": {
    "name": "ipython",
    "version": 3
   },
   "file_extension": ".py",
   "mimetype": "text/x-python",
   "name": "python",
   "nbconvert_exporter": "python",
   "pygments_lexer": "ipython3",
   "version": "3.12.3"
  }
 },
 "nbformat": 4,
 "nbformat_minor": 4
}