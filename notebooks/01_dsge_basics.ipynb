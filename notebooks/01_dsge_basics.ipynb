{
 "cells": [
  {
   "cell_type": "markdown",
   "metadata": {},
   "source": [
    "# DSGE モデル入門\n",
    "\n",
    "日本経済向けDSGEモデルの基本操作を学習します。"
   ]
  },
  {
   "cell_type": "code",
   "execution_count": 1,
   "metadata": {},
   "outputs": [
    {
     "name": "stdout",
     "output_type": "stream",
     "text": [
      "🎌 日本語フォント設定: Hiragino Sans (fallback)\n",
      "📁 プロジェクトルート: /Users/daisukeyoda/Documents/JapanTaxSimulator\n",
      "📋 01_dsge_basics 環境設定完了\n"
     ]
    }
   ],
   "source": [
    "# 環境設定\n",
    "import sys\n",
    "import os\n",
    "\n",
    "# notebooks/common.pyからインポート（パス自動設定）\n",
    "sys.path.append('notebooks')\n",
    "from common import (\n",
    "    setup_notebook_environment,\n",
    "    load_baseline_model,\n",
    "    create_research_simulator\n",
    ")\n",
    "\n",
    "# 環境初期化\n",
    "project_root = setup_notebook_environment(\"01_dsge_basics\")"
   ]
  },
  {
   "cell_type": "code",
   "execution_count": 2,
   "metadata": {},
   "outputs": [
    {
     "name": "stdout",
     "output_type": "stream",
     "text": [
      "✅ ベースラインモデル読み込み成功\n",
      "🔄 定常状態を計算中...\n",
      "✅ 定常状態計算完了\n",
      "=== 主要パラメータ ===\n",
      "割引因子 (β): 0.99\n",
      "資本分配率 (α): 0.33\n",
      "消費税率: 10.0%\n",
      "所得税率: 20.0%\n",
      "法人税率: 30.0%\n"
     ]
    }
   ],
   "source": [
    "# モデル読み込み\n",
    "model = load_baseline_model()\n",
    "\n",
    "# パラメータ表示\n",
    "params = model.params\n",
    "print(\"=== 主要パラメータ ===\")\n",
    "print(f\"割引因子 (β): {params.beta}\")\n",
    "print(f\"資本分配率 (α): {params.alpha}\")\n",
    "print(f\"消費税率: {params.tau_c:.1%}\")\n",
    "print(f\"所得税率: {params.tau_l:.1%}\")\n",
    "print(f\"法人税率: {params.tau_f:.1%}\")"
   ]
  },
  {
   "cell_type": "code",
   "execution_count": 3,
   "metadata": {},
   "outputs": [
    {
     "name": "stdout",
     "output_type": "stream",
     "text": [
      "🔍 モデル設定比較テスト開始...\n",
      "\n",
      "=== 完全DSGE+Klein線形化 ===\n",
      "🎯 Setting up Klein linearization (research-grade)\n"
     ]
    },
    {
     "name": "stderr",
     "output_type": "stream",
     "text": [
      "/Users/daisukeyoda/Documents/JapanTaxSimulator/notebooks/common.py:210: FutureWarning: Using backward compatibility facade. For new development, import directly from:\n",
      "- simulation.enhanced_simulator.EnhancedSimulationEngine\n",
      "- analysis.welfare_analysis.WelfareAnalyzer\n",
      "- analysis.fiscal_impact.FiscalAnalyzer\n",
      "- utils_new.reform_definitions.TaxReform\n",
      "- utils_new.result_containers.SimulationResults\n",
      "  from src.tax_simulator import ResearchTaxSimulator, EnhancedTaxSimulator\n"
     ]
    },
    {
     "name": "stdout",
     "output_type": "stream",
     "text": [
      "Square system achieved: (27, 27) with rank 5\n",
      "A matrix is still rank deficient (5/27)\n",
      "Note: Model has limited forward-looking dynamics (rank 5)\n",
      "This is expected for models with many static relationships\n",
      "Matrix A shape: (27, 27)\n",
      "Matrix B shape: (27, 27)\n",
      "A matrix rank: 5\n",
      "B matrix rank: 25\n",
      "Number of explosive eigenvalues: 3\n",
      "Number of forward-looking variables: 5\n",
      "Warning: Blanchard-Kahn conditions not satisfied.\n",
      "This may indicate model indeterminacy or non-existence of solution.\n",
      "Warning: Could not solve for policy function, using pseudo-inverse\n",
      "⚠️ Klein linearization failed, falling back to simple method\n",
      "✅ Setting up simple linearization (demo/educational - NOT DSGE-derived)\n",
      "✅ Simple linearization setup complete\n",
      "🎓 研究グレードシミュレータ初期化成功\n",
      "設定: full_klein\n",
      "Simulating テスト用消費税1%増税 with enhanced engine...\n",
      "Using tax-adjusted initial guess for large tax change (magnitude: 0.010)\n",
      "❌ GDP結果が取得できません\n",
      "\n",
      "=== 完全DSGE+簡易線形化 ===\n",
      "✅ Setting up simple linearization (demo/educational - NOT DSGE-derived)\n",
      "✅ Simple linearization setup complete\n",
      "🎓 研究グレードシミュレータ初期化成功\n",
      "設定: simplified\n",
      "Simulating テスト用消費税1%増税 with enhanced engine...\n",
      "Using tax-adjusted initial guess for large tax change (magnitude: 0.010)\n",
      "❌ GDP結果が取得できません\n",
      "\n",
      "=== 簡易モデル+簡易線形化 ===\n",
      "✅ Setting up simple linearization (demo/educational - NOT DSGE-derived)\n",
      "✅ Simple linearization setup complete\n",
      "🎓 研究グレードシミュレータ初期化成功\n",
      "設定: simplified\n",
      "Simulating テスト用消費税1%増税 with enhanced engine...\n",
      "Using tax-adjusted initial guess for large tax change (magnitude: 0.010)\n",
      "❌ GDP結果が取得できません\n",
      "\n",
      "✅ モデル設定比較テスト完了\n"
     ]
    },
    {
     "name": "stderr",
     "output_type": "stream",
     "text": [
      "/Users/daisukeyoda/Documents/JapanTaxSimulator/src/simulation/enhanced_simulator.py:91: UserWarning: Blanchard-Kahn conditions not satisfied\n",
      "  warnings.warn(\"Blanchard-Kahn conditions not satisfied\")\n",
      "/Users/daisukeyoda/Documents/JapanTaxSimulator/src/tax_simulator.py:279: ResearchWarning: RESEARCH WARNING - simulate_reform: Uses automatic model selection (simple vs complex) with different economic assumptions. May return results from different underlying models without clear indication. Welfare calculations use simplified approximations.\n",
      "  return self.simulator.simulate_reform(reform, periods, compute_welfare=True)\n",
      "/Users/daisukeyoda/Documents/JapanTaxSimulator/src/tax_simulator.py:156: ResearchWarning: RESEARCH WARNING - simulate_reform: Uses automatic model selection (simple vs complex) with different economic assumptions. May return results from different underlying models without clear indication. Welfare calculations use simplified approximations.\n",
      "  results = self.simulation_engine.simulate_reform(reform, periods)\n",
      "/Users/daisukeyoda/Documents/JapanTaxSimulator/src/tax_simulator.py:160: ResearchWarning: RESEARCH WARNING - analyze_welfare_impact: Welfare calculations use simplified utility assumptions and may not reflect full general equilibrium effects. Results should be validated against empirical welfare estimates from tax policy literature.\n",
      "  welfare_result = self.welfare_analyzer.analyze_welfare_impact(\n",
      "/Users/daisukeyoda/Documents/JapanTaxSimulator/src/tax_simulator.py:167: ResearchWarning: RESEARCH WARNING - analyze_fiscal_impact: Fiscal impact calculations use calibrated tax elasticities that may not reflect current economic conditions. Revenue estimates should be validated against actual tax collection data and econometric studies.\n",
      "  fiscal_result = self.fiscal_analyzer.analyze_fiscal_impact(\n",
      "/Users/daisukeyoda/Documents/JapanTaxSimulator/src/analysis/fiscal_impact.py:164: ResearchWarning: Wage (w) missing for period 0. Computing from labor productivity: w = 0.65*Y/L = 1.5009. For research use, provide actual wage data.\n",
      "  warnings.warn(\n",
      "/Users/daisukeyoda/Documents/JapanTaxSimulator/src/analysis/fiscal_impact.py:164: ResearchWarning: Wage (w) missing for period 1. Computing from labor productivity: w = 0.65*Y/L = 1.4955. For research use, provide actual wage data.\n",
      "  warnings.warn(\n",
      "/Users/daisukeyoda/Documents/JapanTaxSimulator/src/analysis/fiscal_impact.py:164: ResearchWarning: Wage (w) missing for period 2. Computing from labor productivity: w = 0.65*Y/L = 1.5015. For research use, provide actual wage data.\n",
      "  warnings.warn(\n",
      "/Users/daisukeyoda/Documents/JapanTaxSimulator/src/analysis/fiscal_impact.py:164: ResearchWarning: Wage (w) missing for period 3. Computing from labor productivity: w = 0.65*Y/L = 1.4966. For research use, provide actual wage data.\n",
      "  warnings.warn(\n",
      "/Users/daisukeyoda/Documents/JapanTaxSimulator/src/analysis/fiscal_impact.py:164: ResearchWarning: Wage (w) missing for period 4. Computing from labor productivity: w = 0.65*Y/L = 1.4972. For research use, provide actual wage data.\n",
      "  warnings.warn(\n",
      "/Users/daisukeyoda/Documents/JapanTaxSimulator/src/analysis/fiscal_impact.py:164: ResearchWarning: Wage (w) missing for period 5. Computing from labor productivity: w = 0.65*Y/L = 1.5051. For research use, provide actual wage data.\n",
      "  warnings.warn(\n",
      "/Users/daisukeyoda/Documents/JapanTaxSimulator/src/analysis/fiscal_impact.py:164: ResearchWarning: Wage (w) missing for period 6. Computing from labor productivity: w = 0.65*Y/L = 1.4939. For research use, provide actual wage data.\n",
      "  warnings.warn(\n",
      "/Users/daisukeyoda/Documents/JapanTaxSimulator/src/analysis/fiscal_impact.py:164: ResearchWarning: Wage (w) missing for period 7. Computing from labor productivity: w = 0.65*Y/L = 1.4985. For research use, provide actual wage data.\n",
      "  warnings.warn(\n",
      "/Users/daisukeyoda/Documents/JapanTaxSimulator/src/analysis/fiscal_impact.py:164: ResearchWarning: Wage (w) missing for period 0. Computing from labor productivity: w = 0.65*Y/L = 1.4985. For research use, provide actual wage data.\n",
      "  warnings.warn(\n",
      "/Users/daisukeyoda/Documents/JapanTaxSimulator/src/analysis/fiscal_impact.py:164: ResearchWarning: Wage (w) missing for period 1. Computing from labor productivity: w = 0.65*Y/L = 1.4985. For research use, provide actual wage data.\n",
      "  warnings.warn(\n",
      "/Users/daisukeyoda/Documents/JapanTaxSimulator/src/analysis/fiscal_impact.py:164: ResearchWarning: Wage (w) missing for period 2. Computing from labor productivity: w = 0.65*Y/L = 1.4986. For research use, provide actual wage data.\n",
      "  warnings.warn(\n",
      "/Users/daisukeyoda/Documents/JapanTaxSimulator/src/analysis/fiscal_impact.py:164: ResearchWarning: Wage (w) missing for period 3. Computing from labor productivity: w = 0.65*Y/L = 1.4986. For research use, provide actual wage data.\n",
      "  warnings.warn(\n",
      "/Users/daisukeyoda/Documents/JapanTaxSimulator/src/analysis/fiscal_impact.py:164: ResearchWarning: Wage (w) missing for period 4. Computing from labor productivity: w = 0.65*Y/L = 1.4986. For research use, provide actual wage data.\n",
      "  warnings.warn(\n",
      "/Users/daisukeyoda/Documents/JapanTaxSimulator/src/analysis/fiscal_impact.py:164: ResearchWarning: Wage (w) missing for period 5. Computing from labor productivity: w = 0.65*Y/L = 1.4987. For research use, provide actual wage data.\n",
      "  warnings.warn(\n",
      "/Users/daisukeyoda/Documents/JapanTaxSimulator/src/analysis/fiscal_impact.py:164: ResearchWarning: Wage (w) missing for period 6. Computing from labor productivity: w = 0.65*Y/L = 1.4987. For research use, provide actual wage data.\n",
      "  warnings.warn(\n",
      "/Users/daisukeyoda/Documents/JapanTaxSimulator/src/analysis/fiscal_impact.py:164: ResearchWarning: Wage (w) missing for period 7. Computing from labor productivity: w = 0.65*Y/L = 1.4987. For research use, provide actual wage data.\n",
      "  warnings.warn(\n",
      "/Users/daisukeyoda/Documents/JapanTaxSimulator/src/tax_simulator.py:279: ResearchWarning: RESEARCH WARNING - simulate_reform: Uses automatic model selection (simple vs complex) with different economic assumptions. May return results from different underlying models without clear indication. Welfare calculations use simplified approximations.\n",
      "  return self.simulator.simulate_reform(reform, periods, compute_welfare=True)\n",
      "/Users/daisukeyoda/Documents/JapanTaxSimulator/src/tax_simulator.py:156: ResearchWarning: RESEARCH WARNING - simulate_reform: Uses automatic model selection (simple vs complex) with different economic assumptions. May return results from different underlying models without clear indication. Welfare calculations use simplified approximations.\n",
      "  results = self.simulation_engine.simulate_reform(reform, periods)\n",
      "/Users/daisukeyoda/Documents/JapanTaxSimulator/src/tax_simulator.py:160: ResearchWarning: RESEARCH WARNING - analyze_welfare_impact: Welfare calculations use simplified utility assumptions and may not reflect full general equilibrium effects. Results should be validated against empirical welfare estimates from tax policy literature.\n",
      "  welfare_result = self.welfare_analyzer.analyze_welfare_impact(\n",
      "/Users/daisukeyoda/Documents/JapanTaxSimulator/src/tax_simulator.py:167: ResearchWarning: RESEARCH WARNING - analyze_fiscal_impact: Fiscal impact calculations use calibrated tax elasticities that may not reflect current economic conditions. Revenue estimates should be validated against actual tax collection data and econometric studies.\n",
      "  fiscal_result = self.fiscal_analyzer.analyze_fiscal_impact(\n",
      "/Users/daisukeyoda/Documents/JapanTaxSimulator/src/analysis/fiscal_impact.py:164: ResearchWarning: Wage (w) missing for period 0. Computing from labor productivity: w = 0.65*Y/L = 1.4999. For research use, provide actual wage data.\n",
      "  warnings.warn(\n",
      "/Users/daisukeyoda/Documents/JapanTaxSimulator/src/analysis/fiscal_impact.py:164: ResearchWarning: Wage (w) missing for period 1. Computing from labor productivity: w = 0.65*Y/L = 1.4975. For research use, provide actual wage data.\n",
      "  warnings.warn(\n",
      "/Users/daisukeyoda/Documents/JapanTaxSimulator/src/analysis/fiscal_impact.py:164: ResearchWarning: Wage (w) missing for period 2. Computing from labor productivity: w = 0.65*Y/L = 1.4987. For research use, provide actual wage data.\n",
      "  warnings.warn(\n",
      "/Users/daisukeyoda/Documents/JapanTaxSimulator/src/analysis/fiscal_impact.py:164: ResearchWarning: Wage (w) missing for period 3. Computing from labor productivity: w = 0.65*Y/L = 1.4992. For research use, provide actual wage data.\n",
      "  warnings.warn(\n",
      "/Users/daisukeyoda/Documents/JapanTaxSimulator/src/analysis/fiscal_impact.py:164: ResearchWarning: Wage (w) missing for period 4. Computing from labor productivity: w = 0.65*Y/L = 1.4978. For research use, provide actual wage data.\n",
      "  warnings.warn(\n",
      "/Users/daisukeyoda/Documents/JapanTaxSimulator/src/analysis/fiscal_impact.py:164: ResearchWarning: Wage (w) missing for period 5. Computing from labor productivity: w = 0.65*Y/L = 1.5008. For research use, provide actual wage data.\n",
      "  warnings.warn(\n",
      "/Users/daisukeyoda/Documents/JapanTaxSimulator/src/analysis/fiscal_impact.py:164: ResearchWarning: Wage (w) missing for period 6. Computing from labor productivity: w = 0.65*Y/L = 1.5001. For research use, provide actual wage data.\n",
      "  warnings.warn(\n",
      "/Users/daisukeyoda/Documents/JapanTaxSimulator/src/analysis/fiscal_impact.py:164: ResearchWarning: Wage (w) missing for period 7. Computing from labor productivity: w = 0.65*Y/L = 1.4948. For research use, provide actual wage data.\n",
      "  warnings.warn(\n",
      "/Users/daisukeyoda/Documents/JapanTaxSimulator/src/analysis/fiscal_impact.py:164: ResearchWarning: Wage (w) missing for period 0. Computing from labor productivity: w = 0.65*Y/L = 1.4985. For research use, provide actual wage data.\n",
      "  warnings.warn(\n",
      "/Users/daisukeyoda/Documents/JapanTaxSimulator/src/analysis/fiscal_impact.py:164: ResearchWarning: Wage (w) missing for period 1. Computing from labor productivity: w = 0.65*Y/L = 1.4985. For research use, provide actual wage data.\n",
      "  warnings.warn(\n",
      "/Users/daisukeyoda/Documents/JapanTaxSimulator/src/analysis/fiscal_impact.py:164: ResearchWarning: Wage (w) missing for period 2. Computing from labor productivity: w = 0.65*Y/L = 1.4986. For research use, provide actual wage data.\n",
      "  warnings.warn(\n",
      "/Users/daisukeyoda/Documents/JapanTaxSimulator/src/analysis/fiscal_impact.py:164: ResearchWarning: Wage (w) missing for period 3. Computing from labor productivity: w = 0.65*Y/L = 1.4986. For research use, provide actual wage data.\n",
      "  warnings.warn(\n",
      "/Users/daisukeyoda/Documents/JapanTaxSimulator/src/analysis/fiscal_impact.py:164: ResearchWarning: Wage (w) missing for period 4. Computing from labor productivity: w = 0.65*Y/L = 1.4986. For research use, provide actual wage data.\n",
      "  warnings.warn(\n",
      "/Users/daisukeyoda/Documents/JapanTaxSimulator/src/analysis/fiscal_impact.py:164: ResearchWarning: Wage (w) missing for period 5. Computing from labor productivity: w = 0.65*Y/L = 1.4987. For research use, provide actual wage data.\n",
      "  warnings.warn(\n",
      "/Users/daisukeyoda/Documents/JapanTaxSimulator/src/analysis/fiscal_impact.py:164: ResearchWarning: Wage (w) missing for period 6. Computing from labor productivity: w = 0.65*Y/L = 1.4987. For research use, provide actual wage data.\n",
      "  warnings.warn(\n",
      "/Users/daisukeyoda/Documents/JapanTaxSimulator/src/analysis/fiscal_impact.py:164: ResearchWarning: Wage (w) missing for period 7. Computing from labor productivity: w = 0.65*Y/L = 1.4987. For research use, provide actual wage data.\n",
      "  warnings.warn(\n",
      "/Users/daisukeyoda/Documents/JapanTaxSimulator/src/tax_simulator.py:279: ResearchWarning: RESEARCH WARNING - simulate_reform: Uses automatic model selection (simple vs complex) with different economic assumptions. May return results from different underlying models without clear indication. Welfare calculations use simplified approximations.\n",
      "  return self.simulator.simulate_reform(reform, periods, compute_welfare=True)\n",
      "/Users/daisukeyoda/Documents/JapanTaxSimulator/src/tax_simulator.py:156: ResearchWarning: RESEARCH WARNING - simulate_reform: Uses automatic model selection (simple vs complex) with different economic assumptions. May return results from different underlying models without clear indication. Welfare calculations use simplified approximations.\n",
      "  results = self.simulation_engine.simulate_reform(reform, periods)\n",
      "/Users/daisukeyoda/Documents/JapanTaxSimulator/src/tax_simulator.py:160: ResearchWarning: RESEARCH WARNING - analyze_welfare_impact: Welfare calculations use simplified utility assumptions and may not reflect full general equilibrium effects. Results should be validated against empirical welfare estimates from tax policy literature.\n",
      "  welfare_result = self.welfare_analyzer.analyze_welfare_impact(\n",
      "/Users/daisukeyoda/Documents/JapanTaxSimulator/src/tax_simulator.py:167: ResearchWarning: RESEARCH WARNING - analyze_fiscal_impact: Fiscal impact calculations use calibrated tax elasticities that may not reflect current economic conditions. Revenue estimates should be validated against actual tax collection data and econometric studies.\n",
      "  fiscal_result = self.fiscal_analyzer.analyze_fiscal_impact(\n",
      "/Users/daisukeyoda/Documents/JapanTaxSimulator/src/analysis/fiscal_impact.py:164: ResearchWarning: Wage (w) missing for period 0. Computing from labor productivity: w = 0.65*Y/L = 1.5018. For research use, provide actual wage data.\n",
      "  warnings.warn(\n",
      "/Users/daisukeyoda/Documents/JapanTaxSimulator/src/analysis/fiscal_impact.py:164: ResearchWarning: Wage (w) missing for period 1. Computing from labor productivity: w = 0.65*Y/L = 1.4980. For research use, provide actual wage data.\n",
      "  warnings.warn(\n",
      "/Users/daisukeyoda/Documents/JapanTaxSimulator/src/analysis/fiscal_impact.py:164: ResearchWarning: Wage (w) missing for period 2. Computing from labor productivity: w = 0.65*Y/L = 1.4985. For research use, provide actual wage data.\n",
      "  warnings.warn(\n",
      "/Users/daisukeyoda/Documents/JapanTaxSimulator/src/analysis/fiscal_impact.py:164: ResearchWarning: Wage (w) missing for period 3. Computing from labor productivity: w = 0.65*Y/L = 1.5005. For research use, provide actual wage data.\n",
      "  warnings.warn(\n",
      "/Users/daisukeyoda/Documents/JapanTaxSimulator/src/analysis/fiscal_impact.py:164: ResearchWarning: Wage (w) missing for period 4. Computing from labor productivity: w = 0.65*Y/L = 1.4979. For research use, provide actual wage data.\n",
      "  warnings.warn(\n",
      "/Users/daisukeyoda/Documents/JapanTaxSimulator/src/analysis/fiscal_impact.py:164: ResearchWarning: Wage (w) missing for period 5. Computing from labor productivity: w = 0.65*Y/L = 1.5007. For research use, provide actual wage data.\n",
      "  warnings.warn(\n",
      "/Users/daisukeyoda/Documents/JapanTaxSimulator/src/analysis/fiscal_impact.py:164: ResearchWarning: Wage (w) missing for period 6. Computing from labor productivity: w = 0.65*Y/L = 1.4977. For research use, provide actual wage data.\n",
      "  warnings.warn(\n",
      "/Users/daisukeyoda/Documents/JapanTaxSimulator/src/analysis/fiscal_impact.py:164: ResearchWarning: Wage (w) missing for period 7. Computing from labor productivity: w = 0.65*Y/L = 1.4991. For research use, provide actual wage data.\n",
      "  warnings.warn(\n",
      "/Users/daisukeyoda/Documents/JapanTaxSimulator/src/analysis/fiscal_impact.py:164: ResearchWarning: Wage (w) missing for period 0. Computing from labor productivity: w = 0.65*Y/L = 1.4985. For research use, provide actual wage data.\n",
      "  warnings.warn(\n",
      "/Users/daisukeyoda/Documents/JapanTaxSimulator/src/analysis/fiscal_impact.py:164: ResearchWarning: Wage (w) missing for period 1. Computing from labor productivity: w = 0.65*Y/L = 1.4985. For research use, provide actual wage data.\n",
      "  warnings.warn(\n",
      "/Users/daisukeyoda/Documents/JapanTaxSimulator/src/analysis/fiscal_impact.py:164: ResearchWarning: Wage (w) missing for period 2. Computing from labor productivity: w = 0.65*Y/L = 1.4986. For research use, provide actual wage data.\n",
      "  warnings.warn(\n",
      "/Users/daisukeyoda/Documents/JapanTaxSimulator/src/analysis/fiscal_impact.py:164: ResearchWarning: Wage (w) missing for period 3. Computing from labor productivity: w = 0.65*Y/L = 1.4986. For research use, provide actual wage data.\n",
      "  warnings.warn(\n",
      "/Users/daisukeyoda/Documents/JapanTaxSimulator/src/analysis/fiscal_impact.py:164: ResearchWarning: Wage (w) missing for period 4. Computing from labor productivity: w = 0.65*Y/L = 1.4986. For research use, provide actual wage data.\n",
      "  warnings.warn(\n",
      "/Users/daisukeyoda/Documents/JapanTaxSimulator/src/analysis/fiscal_impact.py:164: ResearchWarning: Wage (w) missing for period 5. Computing from labor productivity: w = 0.65*Y/L = 1.4987. For research use, provide actual wage data.\n",
      "  warnings.warn(\n",
      "/Users/daisukeyoda/Documents/JapanTaxSimulator/src/analysis/fiscal_impact.py:164: ResearchWarning: Wage (w) missing for period 6. Computing from labor productivity: w = 0.65*Y/L = 1.4987. For research use, provide actual wage data.\n",
      "  warnings.warn(\n",
      "/Users/daisukeyoda/Documents/JapanTaxSimulator/src/analysis/fiscal_impact.py:164: ResearchWarning: Wage (w) missing for period 7. Computing from labor productivity: w = 0.65*Y/L = 1.4987. For research use, provide actual wage data.\n",
      "  warnings.warn(\n"
     ]
    }
   ],
   "source": [
    "# モデル設定比較テスト\n",
    "from common import test_different_model_configurations\n",
    "test_different_model_configurations(model)"
   ]
  },
  {
   "cell_type": "code",
   "execution_count": 4,
   "metadata": {},
   "outputs": [
    {
     "name": "stdout",
     "output_type": "stream",
     "text": [
      "=== 定常状態 ===\n",
      "GDP: 2.509\n",
      "消費: 1.660\n",
      "投資: 0.343\n",
      "労働: 1.088\n",
      "\n",
      "=== 主要比率 ===\n",
      "消費/GDP: 66.1%\n",
      "投資/GDP: 13.7%\n"
     ]
    }
   ],
   "source": [
    "# 定常状態確認\n",
    "ss = model.steady_state\n",
    "ss_dict = ss.to_dict()\n",
    "\n",
    "print(\"=== 定常状態 ===\")\n",
    "print(f\"GDP: {ss_dict['Y']:.3f}\")\n",
    "print(f\"消費: {ss_dict['C']:.3f}\")\n",
    "print(f\"投資: {ss_dict['I']:.3f}\")\n",
    "print(f\"労働: {ss_dict['L']:.3f}\")\n",
    "\n",
    "print(\"\\n=== 主要比率 ===\")\n",
    "print(f\"消費/GDP: {ss_dict['C']/ss_dict['Y']:.1%}\")\n",
    "print(f\"投資/GDP: {ss_dict['I']/ss_dict['Y']:.1%}\")"
   ]
  },
  {
   "cell_type": "markdown",
   "metadata": {},
   "source": [
    "## DSGEモデルの基本概念\n",
    "\n",
    "- **Dynamic**: 時間を通じた最適化\n",
    "- **Stochastic**: 確率的ショックを考慮\n",
    "- **General Equilibrium**: 全市場の同時均衡\n",
    "\n",
    "### 構成要素\n",
    "1. 家計部門（効用最大化）\n",
    "2. 企業部門（利潤最大化） \n",
    "3. 政府部門（財政政策）\n",
    "4. 中央銀行（金融政策）"
   ]
  },
  {
   "cell_type": "code",
   "execution_count": 5,
   "metadata": {},
   "outputs": [
    {
     "name": "stdout",
     "output_type": "stream",
     "text": [
      "✅ DSGE基本操作完了\n"
     ]
    }
   ],
   "source": [
    "print(\"✅ DSGE基本操作完了\")"
   ]
  }
 ],
 "metadata": {
  "kernelspec": {
   "display_name": ".venv",
   "language": "python",
   "name": "python3"
  },
  "language_info": {
   "codemirror_mode": {
    "name": "ipython",
    "version": 3
   },
   "file_extension": ".py",
   "mimetype": "text/x-python",
   "name": "python",
   "nbconvert_exporter": "python",
   "pygments_lexer": "ipython3",
   "version": "3.12.3"
  }
 },
 "nbformat": 4,
 "nbformat_minor": 4
}
