{
 "cells": [
  {
   "cell_type": "markdown",
   "metadata": {},
   "source": [
    "# DSGE モデル入門\n",
    "\n",
    "日本経済向けDSGEモデルの基本操作を学習します。"
   ]
  },
  {
   "cell_type": "code",
   "execution_count": 1,
   "metadata": {},
   "outputs": [
    {
     "name": "stdout",
     "output_type": "stream",
     "text": [
      "🎌 日本語フォント設定: Hiragino Sans (fallback)\n",
      "📁 プロジェクトルート: /Users/daisukeyoda/Documents/JapanTaxSimulator\n",
      "📋 01_dsge_basics 環境設定完了\n"
     ]
    }
   ],
   "source": [
    "# 環境設定\n",
    "import sys\n",
    "import os\n",
    "\n",
    "# notebooks/common.pyからインポート（パス自動設定）\n",
    "sys.path.append('notebooks')\n",
    "from common import (\n",
    "    setup_notebook_environment,\n",
    "    load_baseline_model,\n",
    "    create_research_simulator\n",
    ")\n",
    "\n",
    "# 環境初期化\n",
    "project_root = setup_notebook_environment(\"01_dsge_basics\")"
   ]
  },
  {
   "cell_type": "code",
   "execution_count": 2,
   "metadata": {},
   "outputs": [
    {
     "name": "stdout",
     "output_type": "stream",
     "text": [
      "✅ ベースラインモデル読み込み成功\n",
      "🔄 定常状態を計算中...\n",
      "Warning: Optimization didn't converge but residuals are acceptable (max: 3.124986e-02)\n",
      "✅ 定常状態計算完了\n",
      "=== 主要パラメータ ===\n",
      "割引因子 (β): 0.99\n",
      "資本分配率 (α): 0.33\n",
      "消費税率: 10.0%\n",
      "所得税率: 20.0%\n",
      "法人税率: 30.0%\n"
     ]
    }
   ],
   "source": [
    "# モデル読み込み\n",
    "model = load_baseline_model()\n",
    "\n",
    "# パラメータ表示\n",
    "params = model.params\n",
    "print(\"=== 主要パラメータ ===\")\n",
    "print(f\"割引因子 (β): {params.beta}\")\n",
    "print(f\"資本分配率 (α): {params.alpha}\")\n",
    "print(f\"消費税率: {params.tau_c:.1%}\")\n",
    "print(f\"所得税率: {params.tau_l:.1%}\")\n",
    "print(f\"法人税率: {params.tau_f:.1%}\")"
   ]
  },
  {
   "cell_type": "code",
   "metadata": {},
   "outputs": [],
   "source": "# モデル設定比較テスト\nfrom common import test_different_model_configurations\ntest_different_model_configurations(model)"
  },
  {
   "cell_type": "code",
   "execution_count": 4,
   "metadata": {},
   "outputs": [
    {
     "name": "stdout",
     "output_type": "stream",
     "text": [
      "=== 定常状態 ===\n",
      "GDP: 0.363\n",
      "消費: 0.266\n",
      "投資: 0.019\n",
      "労働: 0.280\n",
      "\n",
      "=== 主要比率 ===\n",
      "消費/GDP: 73.4%\n",
      "投資/GDP: 5.3%\n"
     ]
    }
   ],
   "source": [
    "# 定常状態確認\n",
    "ss = model.steady_state\n",
    "ss_dict = ss.to_dict()\n",
    "\n",
    "print(\"=== 定常状態 ===\")\n",
    "print(f\"GDP: {ss_dict['Y']:.3f}\")\n",
    "print(f\"消費: {ss_dict['C']:.3f}\")\n",
    "print(f\"投資: {ss_dict['I']:.3f}\")\n",
    "print(f\"労働: {ss_dict['L']:.3f}\")\n",
    "\n",
    "print(\"\\n=== 主要比率 ===\")\n",
    "print(f\"消費/GDP: {ss_dict['C']/ss_dict['Y']:.1%}\")\n",
    "print(f\"投資/GDP: {ss_dict['I']/ss_dict['Y']:.1%}\")"
   ]
  },
  {
   "cell_type": "markdown",
   "metadata": {},
   "source": [
    "## DSGEモデルの基本概念\n",
    "\n",
    "- **Dynamic**: 時間を通じた最適化\n",
    "- **Stochastic**: 確率的ショックを考慮\n",
    "- **General Equilibrium**: 全市場の同時均衡\n",
    "\n",
    "### 構成要素\n",
    "1. 家計部門（効用最大化）\n",
    "2. 企業部門（利潤最大化） \n",
    "3. 政府部門（財政政策）\n",
    "4. 中央銀行（金融政策）"
   ]
  },
  {
   "cell_type": "code",
   "execution_count": 5,
   "metadata": {},
   "outputs": [
    {
     "name": "stdout",
     "output_type": "stream",
     "text": [
      "✅ DSGE基本操作完了\n"
     ]
    }
   ],
   "source": [
    "print(\"✅ DSGE基本操作完了\")"
   ]
  }
 ],
 "metadata": {
  "kernelspec": {
   "display_name": ".venv",
   "language": "python",
   "name": "python3"
  },
  "language_info": {
   "codemirror_mode": {
    "name": "ipython",
    "version": 3
   },
   "file_extension": ".py",
   "mimetype": "text/x-python",
   "name": "python",
   "nbconvert_exporter": "python",
   "pygments_lexer": "ipython3",
   "version": "3.12.3"
  }
 },
 "nbformat": 4,
 "nbformat_minor": 4
}