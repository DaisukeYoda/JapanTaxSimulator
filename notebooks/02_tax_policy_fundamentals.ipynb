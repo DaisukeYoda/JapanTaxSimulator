{
  "cells": [
    {
      "cell_type": "markdown",
      "metadata": {},
      "source": [
        "# 税制政策分析の基礎\n",
        "\n",
        "DSGEモデルを用いた税制政策の経済効果分析を学習します。"
      ]
    },
    {
      "cell_type": "code",
      "execution_count": 1,
      "metadata": {},
      "outputs": [
        {
          "name": "stdout",
          "output_type": "stream",
          "text": [
            "📁 プロジェクトルート: /Users/daisukeyoda/Documents/JapanTaxSimulator\n",
            "📋 02_tax_policy_fundamentals 環境設定完了\n"
          ]
        }
      ],
      "source": [
        "# 環境設定\n",
        "import sys\n",
        "import os\n",
        "import numpy as np\n",
        "import pandas as pd\n",
        "import matplotlib.pyplot as plt\n",
        "\n",
        "# 共通インフラの読み込み\n",
        "sys.path.append('notebooks')\n",
        "from common import (\n",
        "    setup_notebook_environment,\n",
        "    load_baseline_model,\n",
        "    create_research_simulator\n",
        ")\n",
        "\n",
        "# 環境初期化\n",
        "project_root = setup_notebook_environment(\"02_tax_policy_fundamentals\")"
      ]
    },
    {
      "cell_type": "code",
      "execution_count": 2,
      "metadata": {},
      "outputs": [
        {
          "name": "stdout",
          "output_type": "stream",
          "text": [
            "✅ ベースラインモデル読み込み成功\n",
            "🔄 定常状態を計算中...\n",
            "Warning: Optimization didn't converge but residuals are acceptable (max: 3.124986e-02)\n",
            "✅ 定常状態計算完了\n",
            "デバッグ: 利用可能フォント数 461\n",
            "デバッグ: Hiraginoフォント: ['Hiragino Sans CNS', 'Hiragino Sans', 'Hiragino Mincho ProN']\n",
            "デバッグ: フォント 'Hiragino Sans' を発見しました\n",
            "✅ 日本語フォント使用: Hiragino Sans\n"
          ]
        },
        {
          "name": "stderr",
          "output_type": "stream",
          "text": [
            "Matplotlib is building the font cache; this may take a moment.\n"
          ]
        },
        {
          "name": "stdout",
          "output_type": "stream",
          "text": [
            "🔄 RESEARCH MODE: Development (warnings enabled)\n",
            "🔄 RESEARCH MODE: Development (warnings enabled)\n",
            "✅ Research-grade linearized DSGE model initialized\n",
            "🎓 研究グレードシミュレータ初期化成功\n",
            "シミュレータ: ResearchTaxSimulator\n",
            "研究整合性: ✅ COMPLIANT\n"
          ]
        },
        {
          "name": "stderr",
          "output_type": "stream",
          "text": [
            "/Users/daisukeyoda/Documents/JapanTaxSimulator/src/models/simple_dsge.py:37: ResearchWarning: 🚨 SIMPLIFIED DSGE MODEL: This model uses only 8 variables and simplified equations. Economic assumptions differ significantly from full DSGE models. Results should NOT be used for research without empirical validation.\n",
            "  warnings.warn(\n",
            "/Users/daisukeyoda/Documents/JapanTaxSimulator/src/tax_simulator.py:43: ResearchWarning: Simplified DSGE model available. This uses different economic assumptions than the full model. Results may not be comparable.\n",
            "  warnings.warn(\n"
          ]
        }
      ],
      "source": [
        "# モデルとシミュレータの初期化\n",
        "model = load_baseline_model()\n",
        "simulator, status_info = create_research_simulator(model)\n",
        "\n",
        "print(f\"シミュレータ: {status_info['simulator_type']}\")\n",
        "print(f\"研究整合性: {status_info['research_compliance']}\")"
      ]
    },
    {
      "cell_type": "code",
      "execution_count": 3,
      "metadata": {},
      "outputs": [
        {
          "name": "stdout",
          "output_type": "stream",
          "text": [
            "=== 現在の税制 ===\n",
            "消費税率: 10.0%\n",
            "所得税率: 20.0%\n",
            "法人税率: 30.0%\n",
            "\n",
            "GDP: 0.363\n",
            "消費: 0.266\n",
            "投資: 0.019\n"
          ]
        }
      ],
      "source": [
        "# 現在の税制確認\n",
        "params = model.params\n",
        "print(\"=== 現在の税制 ===\")\n",
        "print(f\"消費税率: {params.tau_c:.1%}\")\n",
        "print(f\"所得税率: {params.tau_l:.1%}\")\n",
        "print(f\"法人税率: {params.tau_f:.1%}\")\n",
        "\n",
        "# 定常状態確認\n",
        "ss = model.steady_state.to_dict()\n",
        "print(f\"\\nGDP: {ss['Y']:.3f}\")\n",
        "print(f\"消費: {ss['C']:.3f}\")\n",
        "print(f\"投資: {ss['I']:.3f}\")"
      ]
    },
    {
      "cell_type": "code",
      "execution_count": 10,
      "metadata": {},
      "outputs": [
        {
          "name": "stdout",
          "output_type": "stream",
          "text": [
            "改革案: 消費税2%引き上げ\n",
            "消費税率: 10.0% → 12.0%\n",
            "\n",
            "🔄 シミュレーション実行中...\n",
            "Warning: Optimization didn't converge but residuals are acceptable (max: 4.404095e-02)\n",
            "✅ シミュレーション完了\n"
          ]
        }
      ],
      "source": [
        "# 消費税改革シミュレーション\n",
        "from src.tax_simulator import TaxReform\n",
        "\n",
        "consumption_tax_reform = TaxReform(\n",
        "    name=\"消費税2%引き上げ\",\n",
        "    tau_c=0.12,  # 10% → 12%\n",
        "    implementation='permanent'\n",
        ")\n",
        "\n",
        "print(f\"改革案: {consumption_tax_reform.name}\")\n",
        "print(f\"消費税率: {params.tau_c:.1%} → {consumption_tax_reform.tau_c:.1%}\")\n",
        "\n",
        "# シミュレーション実行\n",
        "print(\"\\n🔄 シミュレーション実行中...\")\n",
        "consumption_results = simulator.simulate_reform(\n",
        "    reform=consumption_tax_reform,\n",
        "    periods=20\n",
        ")\n",
        "print(\"✅ シミュレーション完了\")"
      ]
    },
    {
      "cell_type": "code",
      "execution_count": 9,
      "metadata": {},
      "outputs": [
        {
          "name": "stdout",
          "output_type": "stream",
          "text": [
            "=== 消費税引き上げの長期的影響 ===\n",
            "📉 GDP: -4.62%\n",
            "📉 消費: -2.55%\n",
            "📉 投資: -33.75%\n",
            "📉 労働時間: -3.69%\n",
            "\n",
            "📉 家計福利: -1.09%\n"
          ]
        }
      ],
      "source": [
        "# 結果分析\n",
        "if hasattr(consumption_results, 'steady_state_baseline') and hasattr(consumption_results, 'steady_state_reform'):\n",
        "    baseline_ss = consumption_results.steady_state_baseline\n",
        "    reform_ss = consumption_results.steady_state_reform\n",
        "    \n",
        "    print(\"=== 消費税引き上げの長期的影響 ===\")\n",
        "    \n",
        "    variables = {'Y': 'GDP', 'C': '消費', 'I': '投資', 'L': '労働時間'}\n",
        "    \n",
        "    for var, jp_name in variables.items():\n",
        "        if hasattr(baseline_ss, var) and hasattr(reform_ss, var):\n",
        "            old_val = getattr(baseline_ss, var)\n",
        "            new_val = getattr(reform_ss, var)\n",
        "            if old_val != 0:\n",
        "                change = (new_val - old_val) / old_val * 100\n",
        "                direction = \"📈\" if change > 0 else \"📉\" if change < 0 else \"➡️\"\n",
        "                print(f\"{direction} {jp_name}: {change:+.2f}%\")\n",
        "    \n",
        "    # 福利厚生への影響\n",
        "    if hasattr(consumption_results, 'welfare_change'):\n",
        "        welfare = consumption_results.welfare_change\n",
        "        welfare_direction = \"📈\" if welfare > 0 else \"📉\" if welfare < 0 else \"➡️\"\n",
        "        print(f\"\\n{welfare_direction} 家計福利: {welfare:+.2f}%\")\n",
        "else:\n",
        "    print(\"⚠️ 詳細な比較データが利用できません\")"
      ]
    },
    {
      "cell_type": "code",
      "execution_count": 11,
      "metadata": {},
      "outputs": [
        {
          "name": "stdout",
          "output_type": "stream",
          "text": [
            "改革案: 所得税3%引き下げ\n",
            "所得税率: 20.0% → 17.0%\n",
            "\n",
            "🔄 シミュレーション実行中...\n",
            "Warning: Optimization didn't converge but residuals are acceptable (max: 3.179061e-02)\n",
            "✅ シミュレーション完了\n"
          ]
        }
      ],
      "source": [
        "# 所得税改革シミュレーション\n",
        "income_tax_reform = TaxReform(\n",
        "    name=\"所得税3%引き下げ\",\n",
        "    tau_l=0.17,  # 20% → 17%\n",
        "    implementation='permanent'\n",
        ")\n",
        "\n",
        "print(f\"改革案: {income_tax_reform.name}\")\n",
        "print(f\"所得税率: {params.tau_l:.1%} → {income_tax_reform.tau_l:.1%}\")\n",
        "\n",
        "# シミュレーション実行\n",
        "print(\"\\n🔄 シミュレーション実行中...\")\n",
        "income_results = simulator.simulate_reform(\n",
        "    reform=income_tax_reform,\n",
        "    periods=20\n",
        ")\n",
        "print(\"✅ シミュレーション完了\")"
      ]
    },
    {
      "cell_type": "code",
      "execution_count": 7,
      "metadata": {},
      "outputs": [
        {
          "name": "stdout",
          "output_type": "stream",
          "text": [
            "=== 所得税引き下げの長期的影響 ===\n",
            "📈 GDP: +4.13%\n",
            "📈 消費: +4.55%\n",
            "📈 投資: +1.56%\n",
            "📉 労働時間: -0.11%\n",
            "\n",
            "📈 家計福利: +2.17%\n"
          ]
        }
      ],
      "source": [
        "# 所得税改革の結果分析\n",
        "if hasattr(income_results, 'steady_state_baseline') and hasattr(income_results, 'steady_state_reform'):\n",
        "    baseline_ss = income_results.steady_state_baseline\n",
        "    reform_ss = income_results.steady_state_reform\n",
        "    \n",
        "    print(\"=== 所得税引き下げの長期的影響 ===\")\n",
        "    \n",
        "    variables = {'Y': 'GDP', 'C': '消費', 'I': '投資', 'L': '労働時間'}\n",
        "    \n",
        "    for var, jp_name in variables.items():\n",
        "        if hasattr(baseline_ss, var) and hasattr(reform_ss, var):\n",
        "            old_val = getattr(baseline_ss, var)\n",
        "            new_val = getattr(reform_ss, var)\n",
        "            if old_val != 0:\n",
        "                change = (new_val - old_val) / old_val * 100\n",
        "                direction = \"📈\" if change > 0 else \"📉\" if change < 0 else \"➡️\"\n",
        "                print(f\"{direction} {jp_name}: {change:+.2f}%\")\n",
        "    \n",
        "    # 福利厚生への影響\n",
        "    if hasattr(income_results, 'welfare_change'):\n",
        "        welfare = income_results.welfare_change\n",
        "        welfare_direction = \"📈\" if welfare > 0 else \"📉\" if welfare < 0 else \"➡️\"\n",
        "        print(f\"\\n{welfare_direction} 家計福利: {welfare:+.2f}%\")"
      ]
    },
    {
      "cell_type": "markdown",
      "metadata": {},
      "source": [
        "## 政策提言\n",
        "\n",
        "### 消費税政策\n",
        "- 消費税引き上げは消費を抑制\n",
        "- 税収確保には有効だが経済活動には負の影響\n",
        "\n",
        "### 所得税政策  \n",
        "- 所得税引き下げは労働供給を刺激\n",
        "- 経済成長促進効果が期待される\n",
        "- 税収減少とのトレードオフ"
      ]
    },
    {
      "cell_type": "code",
      "execution_count": 8,
      "metadata": {},
      "outputs": [
        {
          "name": "stdout",
          "output_type": "stream",
          "text": [
            "✅ 02_tax_policy_fundamentals 完了\n",
            "\n",
            "📋 学習内容:\n",
            "✅ 日本の税制構造理解\n",
            "✅ 消費税政策の経済効果分析\n",
            "✅ 所得税政策の経済効果分析\n",
            "✅ 政策提言の基礎\n",
            "\n",
            "🚀 次: 03_research_grade_simulation.ipynb\n"
          ]
        }
      ],
      "source": [
        "print(\"✅ 02_tax_policy_fundamentals 完了\")\n",
        "print(\"\\n📋 学習内容:\")\n",
        "print(\"✅ 日本の税制構造理解\")\n",
        "print(\"✅ 消費税政策の経済効果分析\")\n",
        "print(\"✅ 所得税政策の経済効果分析\")\n",
        "print(\"✅ 政策提言の基礎\")\n",
        "print(\"\\n🚀 次: 03_research_grade_simulation.ipynb\")"
      ]
    }
  ],
  "metadata": {
    "kernelspec": {
      "display_name": ".venv",
      "language": "python",
      "name": "python3"
    },
    "language_info": {
      "codemirror_mode": {
        "name": "ipython",
        "version": 3
      },
      "file_extension": ".py",
      "mimetype": "text/x-python",
      "name": "python",
      "nbconvert_exporter": "python",
      "pygments_lexer": "ipython3",
      "version": "3.12.3"
    }
  },
  "nbformat": 4,
  "nbformat_minor": 4
}
